{
  "nbformat": 4,
  "nbformat_minor": 0,
  "metadata": {
    "colab": {
      "name": "Visualizacion_Equipo7.ipynb",
      "provenance": [],
      "collapsed_sections": [],
      "include_colab_link": true
    },
    "kernelspec": {
      "name": "python3",
      "display_name": "Python 3"
    },
    "language_info": {
      "name": "python"
    }
  },
  "cells": [
    {
      "cell_type": "markdown",
      "metadata": {
        "id": "view-in-github",
        "colab_type": "text"
      },
      "source": [
        "<a href=\"https://colab.research.google.com/github/AdrianaTrejo/Mineria-de-Datos/blob/main/Visualizacion_Equipo7.ipynb\" target=\"_parent\"><img src=\"https://colab.research.google.com/assets/colab-badge.svg\" alt=\"Open In Colab\"/></a>"
      ]
    },
    {
      "cell_type": "markdown",
      "metadata": {
        "id": "pLHtnPblJYBx"
      },
      "source": [
        "* **EQUIPO #7**\n",
        "* **Grupo:** 001 , Lunes(7:00-10:00)\n",
        "* **Integrantes:**\n",
        "  * 1853256 Trejo Rodriguez Adriana Jackeline\n",
        "  * 1848627 Villegas Kane Aaron\n",
        "  *  1866054 Pasillas Moreno Jesus\n",
        "  *  1855060 Salazar Narvaez Daniela\n",
        "  *  1850325 Hernandez Gonzalez Omar"
      ]
    },
    {
      "cell_type": "markdown",
      "metadata": {
        "id": "F4wZvqQQKKh0"
      },
      "source": [
        "------------------------------------------\n",
        "**BASE PRINCIPAL**"
      ]
    },
    {
      "cell_type": "markdown",
      "metadata": {
        "id": "f4RUjlh-KSHu"
      },
      "source": [
        "**Heart Failure Prediction**: https://www.kaggle.com/andrewmvd/heart-failure-clinical-data "
      ]
    },
    {
      "cell_type": "code",
      "metadata": {
        "id": "9LhrLv3OJ39v"
      },
      "source": [
        "#a) Importar librerias y base de datos\n",
        "import pandas as pd\n",
        "import numpy as np\n",
        "import json\n",
        "heart = pd.read_csv(\"heart_failure_clinical_records_dataset.csv\")"
      ],
      "execution_count": null,
      "outputs": []
    },
    {
      "cell_type": "markdown",
      "metadata": {
        "id": "lbNfNqi3K1hh"
      },
      "source": [
        "Aqui introducimos nuestra base de datos que la que trabajaremos"
      ]
    },
    {
      "cell_type": "code",
      "metadata": {
        "colab": {
          "base_uri": "https://localhost:8080/",
          "height": 444
        },
        "id": "ES_tnAZwK_qT",
        "outputId": "29dae2f9-4d6d-425d-bed8-caa2b443aca4"
      },
      "source": [
        "heart"
      ],
      "execution_count": null,
      "outputs": [
        {
          "output_type": "execute_result",
          "data": {
            "text/html": [
              "<div>\n",
              "<style scoped>\n",
              "    .dataframe tbody tr th:only-of-type {\n",
              "        vertical-align: middle;\n",
              "    }\n",
              "\n",
              "    .dataframe tbody tr th {\n",
              "        vertical-align: top;\n",
              "    }\n",
              "\n",
              "    .dataframe thead th {\n",
              "        text-align: right;\n",
              "    }\n",
              "</style>\n",
              "<table border=\"1\" class=\"dataframe\">\n",
              "  <thead>\n",
              "    <tr style=\"text-align: right;\">\n",
              "      <th></th>\n",
              "      <th>age</th>\n",
              "      <th>anaemia</th>\n",
              "      <th>creatinine_phosphokinase</th>\n",
              "      <th>diabetes</th>\n",
              "      <th>ejection_fraction</th>\n",
              "      <th>high_blood_pressure</th>\n",
              "      <th>platelets</th>\n",
              "      <th>serum_creatinine</th>\n",
              "      <th>serum_sodium</th>\n",
              "      <th>sex</th>\n",
              "      <th>smoking</th>\n",
              "      <th>time</th>\n",
              "      <th>DEATH_EVENT</th>\n",
              "    </tr>\n",
              "  </thead>\n",
              "  <tbody>\n",
              "    <tr>\n",
              "      <th>0</th>\n",
              "      <td>75.0</td>\n",
              "      <td>0</td>\n",
              "      <td>582</td>\n",
              "      <td>0</td>\n",
              "      <td>20</td>\n",
              "      <td>1</td>\n",
              "      <td>265000.00</td>\n",
              "      <td>1.9</td>\n",
              "      <td>130</td>\n",
              "      <td>1</td>\n",
              "      <td>0</td>\n",
              "      <td>4</td>\n",
              "      <td>1</td>\n",
              "    </tr>\n",
              "    <tr>\n",
              "      <th>1</th>\n",
              "      <td>55.0</td>\n",
              "      <td>0</td>\n",
              "      <td>7861</td>\n",
              "      <td>0</td>\n",
              "      <td>38</td>\n",
              "      <td>0</td>\n",
              "      <td>263358.03</td>\n",
              "      <td>1.1</td>\n",
              "      <td>136</td>\n",
              "      <td>1</td>\n",
              "      <td>0</td>\n",
              "      <td>6</td>\n",
              "      <td>1</td>\n",
              "    </tr>\n",
              "    <tr>\n",
              "      <th>2</th>\n",
              "      <td>65.0</td>\n",
              "      <td>0</td>\n",
              "      <td>146</td>\n",
              "      <td>0</td>\n",
              "      <td>20</td>\n",
              "      <td>0</td>\n",
              "      <td>162000.00</td>\n",
              "      <td>1.3</td>\n",
              "      <td>129</td>\n",
              "      <td>1</td>\n",
              "      <td>1</td>\n",
              "      <td>7</td>\n",
              "      <td>1</td>\n",
              "    </tr>\n",
              "    <tr>\n",
              "      <th>3</th>\n",
              "      <td>50.0</td>\n",
              "      <td>1</td>\n",
              "      <td>111</td>\n",
              "      <td>0</td>\n",
              "      <td>20</td>\n",
              "      <td>0</td>\n",
              "      <td>210000.00</td>\n",
              "      <td>1.9</td>\n",
              "      <td>137</td>\n",
              "      <td>1</td>\n",
              "      <td>0</td>\n",
              "      <td>7</td>\n",
              "      <td>1</td>\n",
              "    </tr>\n",
              "    <tr>\n",
              "      <th>4</th>\n",
              "      <td>65.0</td>\n",
              "      <td>1</td>\n",
              "      <td>160</td>\n",
              "      <td>1</td>\n",
              "      <td>20</td>\n",
              "      <td>0</td>\n",
              "      <td>327000.00</td>\n",
              "      <td>2.7</td>\n",
              "      <td>116</td>\n",
              "      <td>0</td>\n",
              "      <td>0</td>\n",
              "      <td>8</td>\n",
              "      <td>1</td>\n",
              "    </tr>\n",
              "    <tr>\n",
              "      <th>...</th>\n",
              "      <td>...</td>\n",
              "      <td>...</td>\n",
              "      <td>...</td>\n",
              "      <td>...</td>\n",
              "      <td>...</td>\n",
              "      <td>...</td>\n",
              "      <td>...</td>\n",
              "      <td>...</td>\n",
              "      <td>...</td>\n",
              "      <td>...</td>\n",
              "      <td>...</td>\n",
              "      <td>...</td>\n",
              "      <td>...</td>\n",
              "    </tr>\n",
              "    <tr>\n",
              "      <th>294</th>\n",
              "      <td>62.0</td>\n",
              "      <td>0</td>\n",
              "      <td>61</td>\n",
              "      <td>1</td>\n",
              "      <td>38</td>\n",
              "      <td>1</td>\n",
              "      <td>155000.00</td>\n",
              "      <td>1.1</td>\n",
              "      <td>143</td>\n",
              "      <td>1</td>\n",
              "      <td>1</td>\n",
              "      <td>270</td>\n",
              "      <td>0</td>\n",
              "    </tr>\n",
              "    <tr>\n",
              "      <th>295</th>\n",
              "      <td>55.0</td>\n",
              "      <td>0</td>\n",
              "      <td>1820</td>\n",
              "      <td>0</td>\n",
              "      <td>38</td>\n",
              "      <td>0</td>\n",
              "      <td>270000.00</td>\n",
              "      <td>1.2</td>\n",
              "      <td>139</td>\n",
              "      <td>0</td>\n",
              "      <td>0</td>\n",
              "      <td>271</td>\n",
              "      <td>0</td>\n",
              "    </tr>\n",
              "    <tr>\n",
              "      <th>296</th>\n",
              "      <td>45.0</td>\n",
              "      <td>0</td>\n",
              "      <td>2060</td>\n",
              "      <td>1</td>\n",
              "      <td>60</td>\n",
              "      <td>0</td>\n",
              "      <td>742000.00</td>\n",
              "      <td>0.8</td>\n",
              "      <td>138</td>\n",
              "      <td>0</td>\n",
              "      <td>0</td>\n",
              "      <td>278</td>\n",
              "      <td>0</td>\n",
              "    </tr>\n",
              "    <tr>\n",
              "      <th>297</th>\n",
              "      <td>45.0</td>\n",
              "      <td>0</td>\n",
              "      <td>2413</td>\n",
              "      <td>0</td>\n",
              "      <td>38</td>\n",
              "      <td>0</td>\n",
              "      <td>140000.00</td>\n",
              "      <td>1.4</td>\n",
              "      <td>140</td>\n",
              "      <td>1</td>\n",
              "      <td>1</td>\n",
              "      <td>280</td>\n",
              "      <td>0</td>\n",
              "    </tr>\n",
              "    <tr>\n",
              "      <th>298</th>\n",
              "      <td>50.0</td>\n",
              "      <td>0</td>\n",
              "      <td>196</td>\n",
              "      <td>0</td>\n",
              "      <td>45</td>\n",
              "      <td>0</td>\n",
              "      <td>395000.00</td>\n",
              "      <td>1.6</td>\n",
              "      <td>136</td>\n",
              "      <td>1</td>\n",
              "      <td>1</td>\n",
              "      <td>285</td>\n",
              "      <td>0</td>\n",
              "    </tr>\n",
              "  </tbody>\n",
              "</table>\n",
              "<p>299 rows × 13 columns</p>\n",
              "</div>"
            ],
            "text/plain": [
              "      age  anaemia  creatinine_phosphokinase  ...  smoking  time  DEATH_EVENT\n",
              "0    75.0        0                       582  ...        0     4            1\n",
              "1    55.0        0                      7861  ...        0     6            1\n",
              "2    65.0        0                       146  ...        1     7            1\n",
              "3    50.0        1                       111  ...        0     7            1\n",
              "4    65.0        1                       160  ...        0     8            1\n",
              "..    ...      ...                       ...  ...      ...   ...          ...\n",
              "294  62.0        0                        61  ...        1   270            0\n",
              "295  55.0        0                      1820  ...        0   271            0\n",
              "296  45.0        0                      2060  ...        0   278            0\n",
              "297  45.0        0                      2413  ...        1   280            0\n",
              "298  50.0        0                       196  ...        1   285            0\n",
              "\n",
              "[299 rows x 13 columns]"
            ]
          },
          "metadata": {},
          "execution_count": 2
        }
      ]
    },
    {
      "cell_type": "markdown",
      "metadata": {
        "id": "m2gkpj4YLKBN"
      },
      "source": [
        "Visualizamos los datos con los que trabajaremos"
      ]
    },
    {
      "cell_type": "markdown",
      "metadata": {
        "id": "A6t2MO5RdGUW"
      },
      "source": [
        "  **ESTADISTICA BASICA DE LOS DATOS**"
      ]
    },
    {
      "cell_type": "markdown",
      "metadata": {
        "id": "Ps-XQhOjWQEV"
      },
      "source": [
        "* **Funcion sum**"
      ]
    },
    {
      "cell_type": "code",
      "metadata": {
        "colab": {
          "base_uri": "https://localhost:8080/"
        },
        "id": "PloDXREiLnFL",
        "outputId": "0bbfa618-cae4-4d58-cfd0-5bdf592cc0e6"
      },
      "source": [
        "heart[\"diabetes\"].sum()"
      ],
      "execution_count": null,
      "outputs": [
        {
          "output_type": "execute_result",
          "data": {
            "text/plain": [
              "125"
            ]
          },
          "metadata": {},
          "execution_count": 3
        }
      ]
    },
    {
      "cell_type": "code",
      "metadata": {
        "colab": {
          "base_uri": "https://localhost:8080/"
        },
        "id": "dDZXlFRNPidu",
        "outputId": "10f778f0-f9f0-4b50-e8cf-2de62d1e9cd3"
      },
      "source": [
        "heart[\"smoking\"].sum()"
      ],
      "execution_count": null,
      "outputs": [
        {
          "output_type": "execute_result",
          "data": {
            "text/plain": [
              "96"
            ]
          },
          "metadata": {},
          "execution_count": 4
        }
      ]
    },
    {
      "cell_type": "code",
      "metadata": {
        "colab": {
          "base_uri": "https://localhost:8080/"
        },
        "id": "PwHmVjtRP5Uy",
        "outputId": "04e7622c-3ba5-4c51-e165-474dcdfbd40d"
      },
      "source": [
        "heart[\"high_blood_pressure\"].sum()"
      ],
      "execution_count": null,
      "outputs": [
        {
          "output_type": "execute_result",
          "data": {
            "text/plain": [
              "105"
            ]
          },
          "metadata": {},
          "execution_count": 5
        }
      ]
    },
    {
      "cell_type": "markdown",
      "metadata": {
        "id": "c4qViEVOON3K"
      },
      "source": [
        "Estamos detectando cuantas personas sufren diabetes cuantas fuman y cuantas sufren de hipertension ya que son los fatores mas riesgosos e inducen mas rapido a una enfermedad cardiovascular. Con la informacion obtenida sabemos que hay mas cantidad de personas que padecen diabetes."
      ]
    },
    {
      "cell_type": "markdown",
      "metadata": {
        "id": "5lR7nbrFWZFY"
      },
      "source": [
        "* **Funcion mean**"
      ]
    },
    {
      "cell_type": "code",
      "metadata": {
        "colab": {
          "base_uri": "https://localhost:8080/"
        },
        "id": "IWPO-BF8QYKI",
        "outputId": "8431e6a0-d59f-4f59-84ea-02701707f583"
      },
      "source": [
        "heart['age'].mean()"
      ],
      "execution_count": null,
      "outputs": [
        {
          "output_type": "execute_result",
          "data": {
            "text/plain": [
              "60.83389297658862"
            ]
          },
          "metadata": {},
          "execution_count": 6
        }
      ]
    },
    {
      "cell_type": "markdown",
      "metadata": {
        "id": "TX_pB7LEQv2o"
      },
      "source": [
        "Sacamos la media de las edades para ver como se distribuyen las edades de nuestra base."
      ]
    },
    {
      "cell_type": "code",
      "metadata": {
        "colab": {
          "base_uri": "https://localhost:8080/"
        },
        "id": "ckweW43ARqwS",
        "outputId": "24d7ad03-134d-4ccb-c738-b8eb0fc16b31"
      },
      "source": [
        "heart['platelets'].mean()"
      ],
      "execution_count": null,
      "outputs": [
        {
          "output_type": "execute_result",
          "data": {
            "text/plain": [
              "263358.02926421416"
            ]
          },
          "metadata": {},
          "execution_count": 7
        }
      ]
    },
    {
      "cell_type": "markdown",
      "metadata": {
        "id": "hx4oJtrDRyWl"
      },
      "source": [
        "Esto para saber el promedio de cuantas plaquetas hay en la sangre."
      ]
    },
    {
      "cell_type": "markdown",
      "metadata": {
        "id": "R8M94PZ0WmM3"
      },
      "source": [
        "* **Funcion cumsum**"
      ]
    },
    {
      "cell_type": "code",
      "metadata": {
        "colab": {
          "base_uri": "https://localhost:8080/"
        },
        "id": "pkXJym8CR987",
        "outputId": "5a5e240d-94ff-4c6b-9845-420193f7c5ef"
      },
      "source": [
        "totalplaquetas=heart['platelets'].cumsum()\n",
        "totalplaquetas"
      ],
      "execution_count": null,
      "outputs": [
        {
          "output_type": "execute_result",
          "data": {
            "text/plain": [
              "0        265000.00\n",
              "1        528358.03\n",
              "2        690358.03\n",
              "3        900358.03\n",
              "4       1227358.03\n",
              "          ...     \n",
              "294    77197050.75\n",
              "295    77467050.75\n",
              "296    78209050.75\n",
              "297    78349050.75\n",
              "298    78744050.75\n",
              "Name: platelets, Length: 299, dtype: float64"
            ]
          },
          "metadata": {},
          "execution_count": 8
        }
      ]
    },
    {
      "cell_type": "code",
      "metadata": {
        "colab": {
          "base_uri": "https://localhost:8080/"
        },
        "id": "-BCl_BlFSYU_",
        "outputId": "ba74fe2a-d1e6-4b2f-988f-da7c3bd0967d"
      },
      "source": [
        "totalplaquetas[298]"
      ],
      "execution_count": null,
      "outputs": [
        {
          "output_type": "execute_result",
          "data": {
            "text/plain": [
              "78744050.75000003"
            ]
          },
          "metadata": {},
          "execution_count": 9
        }
      ]
    },
    {
      "cell_type": "markdown",
      "metadata": {
        "id": "J57qTrOlSLc5"
      },
      "source": [
        "Esto nos da la suma acumulada de las plaquetas que se tienen en la sangre. Con esto podemos saber el total de plaquetas en la sangre de todas nuestras observaciones."
      ]
    },
    {
      "cell_type": "code",
      "metadata": {
        "colab": {
          "base_uri": "https://localhost:8080/"
        },
        "id": "A3TV1MwBUYCi",
        "outputId": "3cf3d2a6-10a7-41f6-bda8-bd5288d84e7a"
      },
      "source": [
        "hombres=heart['sex'].cumsum()\n",
        "Total_hombres=hombres[298]\n",
        "Total_hombres"
      ],
      "execution_count": null,
      "outputs": [
        {
          "output_type": "execute_result",
          "data": {
            "text/plain": [
              "194"
            ]
          },
          "metadata": {},
          "execution_count": 10
        }
      ]
    },
    {
      "cell_type": "markdown",
      "metadata": {
        "id": "hcsRHh6rUqyK"
      },
      "source": [
        "Con la funcion cumsum nos damos cuenta de cuantos hombres tenemos en nuestra base de datos solo extraemos nuestro ultimo dato y ese el el total y como sabemos el total de hombres tambien podemos hacerlo para las mujeres. Con esto nos damos cuenta que hay 194 hombres en nuestra base."
      ]
    },
    {
      "cell_type": "code",
      "metadata": {
        "colab": {
          "base_uri": "https://localhost:8080/"
        },
        "id": "HtOUZDmYVfcA",
        "outputId": "545eddb9-ee9d-48cd-ca4c-f19175706e07"
      },
      "source": [
        "heart.shape"
      ],
      "execution_count": null,
      "outputs": [
        {
          "output_type": "execute_result",
          "data": {
            "text/plain": [
              "(299, 13)"
            ]
          },
          "metadata": {},
          "execution_count": 11
        }
      ]
    },
    {
      "cell_type": "markdown",
      "metadata": {
        "id": "FzwHjBzVViV7"
      },
      "source": [
        "Esta funcion nos dice cuantas filas y columnas tenemos y nos ayudara a calcular el total de mujeres\n"
      ]
    },
    {
      "cell_type": "code",
      "metadata": {
        "colab": {
          "base_uri": "https://localhost:8080/"
        },
        "id": "yQID9ZAPVx5s",
        "outputId": "10420787-3aa2-4efa-d022-a84f745ef835"
      },
      "source": [
        "Total_mujeres=299-Total_hombres\n",
        "Total_mujeres"
      ],
      "execution_count": null,
      "outputs": [
        {
          "output_type": "execute_result",
          "data": {
            "text/plain": [
              "105"
            ]
          },
          "metadata": {},
          "execution_count": 12
        }
      ]
    },
    {
      "cell_type": "markdown",
      "metadata": {
        "id": "BFuBI1t-WC3N"
      },
      "source": [
        "Y con esto nos damos cuenta que hay 105 mujeres y 194 hombres en nuestra base."
      ]
    },
    {
      "cell_type": "markdown",
      "metadata": {
        "id": "myBXsUHmWt4G"
      },
      "source": [
        "\n",
        "* **Funcion describe**"
      ]
    },
    {
      "cell_type": "code",
      "metadata": {
        "colab": {
          "base_uri": "https://localhost:8080/"
        },
        "id": "Sqy9UQSaXvlx",
        "outputId": "d6160868-5ed3-4e4f-8a3a-2f8968e2e4ec"
      },
      "source": [
        "heart['time'].describe()"
      ],
      "execution_count": null,
      "outputs": [
        {
          "output_type": "execute_result",
          "data": {
            "text/plain": [
              "count    299.000000\n",
              "mean     130.260870\n",
              "std       77.614208\n",
              "min        4.000000\n",
              "25%       73.000000\n",
              "50%      115.000000\n",
              "75%      203.000000\n",
              "max      285.000000\n",
              "Name: time, dtype: float64"
            ]
          },
          "metadata": {},
          "execution_count": 13
        }
      ]
    },
    {
      "cell_type": "markdown",
      "metadata": {
        "id": "S9AxuakuX701"
      },
      "source": [
        "Esta funcion nos da un resumen estadistico de nuestra columna tiempo que nos dice el periodo de seguimiento en dias de las personas."
      ]
    },
    {
      "cell_type": "markdown",
      "metadata": {
        "id": "_vVEKLaOY2WH"
      },
      "source": [
        "* **Funcion count**"
      ]
    },
    {
      "cell_type": "code",
      "metadata": {
        "colab": {
          "base_uri": "https://localhost:8080/"
        },
        "id": "T1kMOfl_YSJB",
        "outputId": "bee59349-4ced-4a48-cc99-f223877587f6"
      },
      "source": [
        "heart.count()"
      ],
      "execution_count": null,
      "outputs": [
        {
          "output_type": "execute_result",
          "data": {
            "text/plain": [
              "age                         299\n",
              "anaemia                     299\n",
              "creatinine_phosphokinase    299\n",
              "diabetes                    299\n",
              "ejection_fraction           299\n",
              "high_blood_pressure         299\n",
              "platelets                   299\n",
              "serum_creatinine            299\n",
              "serum_sodium                299\n",
              "sex                         299\n",
              "smoking                     299\n",
              "time                        299\n",
              "DEATH_EVENT                 299\n",
              "dtype: int64"
            ]
          },
          "metadata": {},
          "execution_count": 14
        }
      ]
    },
    {
      "cell_type": "markdown",
      "metadata": {
        "id": "iC4nfI_TYlDy"
      },
      "source": [
        "Esta funcion nos ayuda a saber cuantos elementos no nulos hay en nuestras columnas, como podemos observar nuestra base esta completa, es decir no falta ningun dato, todos los datos que tenemos son NO nulos."
      ]
    },
    {
      "cell_type": "markdown",
      "metadata": {
        "id": "tVk-WzPaY-uz"
      },
      "source": [
        "* **Funcion min y max**"
      ]
    },
    {
      "cell_type": "code",
      "metadata": {
        "colab": {
          "base_uri": "https://localhost:8080/"
        },
        "id": "VqbtOmIAZDPO",
        "outputId": "b1215816-138f-4b3e-9e47-d52ec200166d"
      },
      "source": [
        "heart['time'].min()"
      ],
      "execution_count": null,
      "outputs": [
        {
          "output_type": "execute_result",
          "data": {
            "text/plain": [
              "4"
            ]
          },
          "metadata": {},
          "execution_count": 15
        }
      ]
    },
    {
      "cell_type": "markdown",
      "metadata": {
        "id": "UQ2v-4AmZL3T"
      },
      "source": [
        "El menor tiempo que estuvo una persona en seguimiento fueron 4 dias."
      ]
    },
    {
      "cell_type": "code",
      "metadata": {
        "colab": {
          "base_uri": "https://localhost:8080/"
        },
        "id": "DQw4LAiuZSsT",
        "outputId": "b69ce16e-df92-412c-bab4-be11e81dfd02"
      },
      "source": [
        "heart['time'].max()"
      ],
      "execution_count": null,
      "outputs": [
        {
          "output_type": "execute_result",
          "data": {
            "text/plain": [
              "285"
            ]
          },
          "metadata": {},
          "execution_count": 16
        }
      ]
    },
    {
      "cell_type": "markdown",
      "metadata": {
        "id": "L4WZGCgCZaVk"
      },
      "source": [
        "El mayor tiempo que una persona estuvo en seguimiento fueron 285 dias."
      ]
    },
    {
      "cell_type": "markdown",
      "metadata": {
        "id": "1wVOuYgeZp_T"
      },
      "source": [
        "* **Funciones median, var y std**"
      ]
    },
    {
      "cell_type": "code",
      "metadata": {
        "colab": {
          "base_uri": "https://localhost:8080/"
        },
        "id": "6qWIXiKiZu-V",
        "outputId": "8af9b0b6-b0d0-429c-e8ae-bed865a49457"
      },
      "source": [
        "heart['serum_sodium'].median()"
      ],
      "execution_count": null,
      "outputs": [
        {
          "output_type": "execute_result",
          "data": {
            "text/plain": [
              "137.0"
            ]
          },
          "metadata": {},
          "execution_count": 17
        }
      ]
    },
    {
      "cell_type": "code",
      "metadata": {
        "colab": {
          "base_uri": "https://localhost:8080/"
        },
        "id": "4JCKJo4zaA0n",
        "outputId": "b021c85e-8365-4dd7-85a0-ee7003257fe5"
      },
      "source": [
        "heart['serum_sodium'].var()"
      ],
      "execution_count": null,
      "outputs": [
        {
          "output_type": "execute_result",
          "data": {
            "text/plain": [
              "19.469955781015"
            ]
          },
          "metadata": {},
          "execution_count": 18
        }
      ]
    },
    {
      "cell_type": "code",
      "metadata": {
        "colab": {
          "base_uri": "https://localhost:8080/"
        },
        "id": "Ckp3zR0jaFZo",
        "outputId": "0e58b106-dad5-4668-dc0f-87cda8d0932e"
      },
      "source": [
        "heart['serum_sodium'].std()"
      ],
      "execution_count": null,
      "outputs": [
        {
          "output_type": "execute_result",
          "data": {
            "text/plain": [
              "4.412477283909233"
            ]
          },
          "metadata": {},
          "execution_count": 19
        }
      ]
    },
    {
      "cell_type": "markdown",
      "metadata": {
        "id": "a3yTvPXFab4r"
      },
      "source": [
        "Estas tres funciones nos ayudan a obtener la media, la varianza y la desviacion estandar respectivamente de alguna columna."
      ]
    },
    {
      "cell_type": "markdown",
      "metadata": {
        "id": "K5MlTlzGa8G3"
      },
      "source": [
        "* **Funcion skew**"
      ]
    },
    {
      "cell_type": "code",
      "metadata": {
        "colab": {
          "base_uri": "https://localhost:8080/"
        },
        "id": "PGknCICjbUj8",
        "outputId": "a305fc6a-fd1a-4bcb-dcc2-d98fc373f6c7"
      },
      "source": [
        "heart['serum_creatinine'].skew()"
      ],
      "execution_count": null,
      "outputs": [
        {
          "output_type": "execute_result",
          "data": {
            "text/plain": [
              "4.455995882049026"
            ]
          },
          "metadata": {},
          "execution_count": 20
        }
      ]
    },
    {
      "cell_type": "markdown",
      "metadata": {
        "id": "ItaN9UvWbZpx"
      },
      "source": [
        "Valor de asimetria en los datos de la columna de nivel de creatinina serica en sangre."
      ]
    },
    {
      "cell_type": "markdown",
      "metadata": {
        "id": "KblGthoabAA5"
      },
      "source": [
        "* **Funcion kurt**"
      ]
    },
    {
      "cell_type": "code",
      "metadata": {
        "colab": {
          "base_uri": "https://localhost:8080/"
        },
        "id": "56oEknAKbvKn",
        "outputId": "202facd9-5661-40a2-c9a2-f36492c56c93"
      },
      "source": [
        "heart['creatinine_phosphokinase'].kurt()"
      ],
      "execution_count": null,
      "outputs": [
        {
          "output_type": "execute_result",
          "data": {
            "text/plain": [
              "25.1490461965808"
            ]
          },
          "metadata": {},
          "execution_count": 21
        }
      ]
    },
    {
      "cell_type": "markdown",
      "metadata": {
        "id": "ltpoCRdGb-Or"
      },
      "source": [
        "Caracteristica de forma de su distribucion de frecuencia/ probabilidad de la columna de nivel de la enzima CPK en la sangre."
      ]
    },
    {
      "cell_type": "markdown",
      "metadata": {
        "id": "vyXv9KXBbDdd"
      },
      "source": [
        "* **Funcion corr**"
      ]
    },
    {
      "cell_type": "code",
      "metadata": {
        "colab": {
          "base_uri": "https://localhost:8080/",
          "height": 477
        },
        "id": "wDA5YrkhcOH4",
        "outputId": "88f8c40b-e841-48c3-c1fc-17d0bddf754b"
      },
      "source": [
        "heart.corr()"
      ],
      "execution_count": null,
      "outputs": [
        {
          "output_type": "execute_result",
          "data": {
            "text/html": [
              "<div>\n",
              "<style scoped>\n",
              "    .dataframe tbody tr th:only-of-type {\n",
              "        vertical-align: middle;\n",
              "    }\n",
              "\n",
              "    .dataframe tbody tr th {\n",
              "        vertical-align: top;\n",
              "    }\n",
              "\n",
              "    .dataframe thead th {\n",
              "        text-align: right;\n",
              "    }\n",
              "</style>\n",
              "<table border=\"1\" class=\"dataframe\">\n",
              "  <thead>\n",
              "    <tr style=\"text-align: right;\">\n",
              "      <th></th>\n",
              "      <th>age</th>\n",
              "      <th>anaemia</th>\n",
              "      <th>creatinine_phosphokinase</th>\n",
              "      <th>diabetes</th>\n",
              "      <th>ejection_fraction</th>\n",
              "      <th>high_blood_pressure</th>\n",
              "      <th>platelets</th>\n",
              "      <th>serum_creatinine</th>\n",
              "      <th>serum_sodium</th>\n",
              "      <th>sex</th>\n",
              "      <th>smoking</th>\n",
              "      <th>time</th>\n",
              "      <th>DEATH_EVENT</th>\n",
              "    </tr>\n",
              "  </thead>\n",
              "  <tbody>\n",
              "    <tr>\n",
              "      <th>age</th>\n",
              "      <td>1.000000</td>\n",
              "      <td>0.088006</td>\n",
              "      <td>-0.081584</td>\n",
              "      <td>-0.101012</td>\n",
              "      <td>0.060098</td>\n",
              "      <td>0.093289</td>\n",
              "      <td>-0.052354</td>\n",
              "      <td>0.159187</td>\n",
              "      <td>-0.045966</td>\n",
              "      <td>0.065430</td>\n",
              "      <td>0.018668</td>\n",
              "      <td>-0.224068</td>\n",
              "      <td>0.253729</td>\n",
              "    </tr>\n",
              "    <tr>\n",
              "      <th>anaemia</th>\n",
              "      <td>0.088006</td>\n",
              "      <td>1.000000</td>\n",
              "      <td>-0.190741</td>\n",
              "      <td>-0.012729</td>\n",
              "      <td>0.031557</td>\n",
              "      <td>0.038182</td>\n",
              "      <td>-0.043786</td>\n",
              "      <td>0.052174</td>\n",
              "      <td>0.041882</td>\n",
              "      <td>-0.094769</td>\n",
              "      <td>-0.107290</td>\n",
              "      <td>-0.141414</td>\n",
              "      <td>0.066270</td>\n",
              "    </tr>\n",
              "    <tr>\n",
              "      <th>creatinine_phosphokinase</th>\n",
              "      <td>-0.081584</td>\n",
              "      <td>-0.190741</td>\n",
              "      <td>1.000000</td>\n",
              "      <td>-0.009639</td>\n",
              "      <td>-0.044080</td>\n",
              "      <td>-0.070590</td>\n",
              "      <td>0.024463</td>\n",
              "      <td>-0.016408</td>\n",
              "      <td>0.059550</td>\n",
              "      <td>0.079791</td>\n",
              "      <td>0.002421</td>\n",
              "      <td>-0.009346</td>\n",
              "      <td>0.062728</td>\n",
              "    </tr>\n",
              "    <tr>\n",
              "      <th>diabetes</th>\n",
              "      <td>-0.101012</td>\n",
              "      <td>-0.012729</td>\n",
              "      <td>-0.009639</td>\n",
              "      <td>1.000000</td>\n",
              "      <td>-0.004850</td>\n",
              "      <td>-0.012732</td>\n",
              "      <td>0.092193</td>\n",
              "      <td>-0.046975</td>\n",
              "      <td>-0.089551</td>\n",
              "      <td>-0.157730</td>\n",
              "      <td>-0.147173</td>\n",
              "      <td>0.033726</td>\n",
              "      <td>-0.001943</td>\n",
              "    </tr>\n",
              "    <tr>\n",
              "      <th>ejection_fraction</th>\n",
              "      <td>0.060098</td>\n",
              "      <td>0.031557</td>\n",
              "      <td>-0.044080</td>\n",
              "      <td>-0.004850</td>\n",
              "      <td>1.000000</td>\n",
              "      <td>0.024445</td>\n",
              "      <td>0.072177</td>\n",
              "      <td>-0.011302</td>\n",
              "      <td>0.175902</td>\n",
              "      <td>-0.148386</td>\n",
              "      <td>-0.067315</td>\n",
              "      <td>0.041729</td>\n",
              "      <td>-0.268603</td>\n",
              "    </tr>\n",
              "    <tr>\n",
              "      <th>high_blood_pressure</th>\n",
              "      <td>0.093289</td>\n",
              "      <td>0.038182</td>\n",
              "      <td>-0.070590</td>\n",
              "      <td>-0.012732</td>\n",
              "      <td>0.024445</td>\n",
              "      <td>1.000000</td>\n",
              "      <td>0.049963</td>\n",
              "      <td>-0.004935</td>\n",
              "      <td>0.037109</td>\n",
              "      <td>-0.104615</td>\n",
              "      <td>-0.055711</td>\n",
              "      <td>-0.196439</td>\n",
              "      <td>0.079351</td>\n",
              "    </tr>\n",
              "    <tr>\n",
              "      <th>platelets</th>\n",
              "      <td>-0.052354</td>\n",
              "      <td>-0.043786</td>\n",
              "      <td>0.024463</td>\n",
              "      <td>0.092193</td>\n",
              "      <td>0.072177</td>\n",
              "      <td>0.049963</td>\n",
              "      <td>1.000000</td>\n",
              "      <td>-0.041198</td>\n",
              "      <td>0.062125</td>\n",
              "      <td>-0.125120</td>\n",
              "      <td>0.028234</td>\n",
              "      <td>0.010514</td>\n",
              "      <td>-0.049139</td>\n",
              "    </tr>\n",
              "    <tr>\n",
              "      <th>serum_creatinine</th>\n",
              "      <td>0.159187</td>\n",
              "      <td>0.052174</td>\n",
              "      <td>-0.016408</td>\n",
              "      <td>-0.046975</td>\n",
              "      <td>-0.011302</td>\n",
              "      <td>-0.004935</td>\n",
              "      <td>-0.041198</td>\n",
              "      <td>1.000000</td>\n",
              "      <td>-0.189095</td>\n",
              "      <td>0.006970</td>\n",
              "      <td>-0.027414</td>\n",
              "      <td>-0.149315</td>\n",
              "      <td>0.294278</td>\n",
              "    </tr>\n",
              "    <tr>\n",
              "      <th>serum_sodium</th>\n",
              "      <td>-0.045966</td>\n",
              "      <td>0.041882</td>\n",
              "      <td>0.059550</td>\n",
              "      <td>-0.089551</td>\n",
              "      <td>0.175902</td>\n",
              "      <td>0.037109</td>\n",
              "      <td>0.062125</td>\n",
              "      <td>-0.189095</td>\n",
              "      <td>1.000000</td>\n",
              "      <td>-0.027566</td>\n",
              "      <td>0.004813</td>\n",
              "      <td>0.087640</td>\n",
              "      <td>-0.195204</td>\n",
              "    </tr>\n",
              "    <tr>\n",
              "      <th>sex</th>\n",
              "      <td>0.065430</td>\n",
              "      <td>-0.094769</td>\n",
              "      <td>0.079791</td>\n",
              "      <td>-0.157730</td>\n",
              "      <td>-0.148386</td>\n",
              "      <td>-0.104615</td>\n",
              "      <td>-0.125120</td>\n",
              "      <td>0.006970</td>\n",
              "      <td>-0.027566</td>\n",
              "      <td>1.000000</td>\n",
              "      <td>0.445892</td>\n",
              "      <td>-0.015608</td>\n",
              "      <td>-0.004316</td>\n",
              "    </tr>\n",
              "    <tr>\n",
              "      <th>smoking</th>\n",
              "      <td>0.018668</td>\n",
              "      <td>-0.107290</td>\n",
              "      <td>0.002421</td>\n",
              "      <td>-0.147173</td>\n",
              "      <td>-0.067315</td>\n",
              "      <td>-0.055711</td>\n",
              "      <td>0.028234</td>\n",
              "      <td>-0.027414</td>\n",
              "      <td>0.004813</td>\n",
              "      <td>0.445892</td>\n",
              "      <td>1.000000</td>\n",
              "      <td>-0.022839</td>\n",
              "      <td>-0.012623</td>\n",
              "    </tr>\n",
              "    <tr>\n",
              "      <th>time</th>\n",
              "      <td>-0.224068</td>\n",
              "      <td>-0.141414</td>\n",
              "      <td>-0.009346</td>\n",
              "      <td>0.033726</td>\n",
              "      <td>0.041729</td>\n",
              "      <td>-0.196439</td>\n",
              "      <td>0.010514</td>\n",
              "      <td>-0.149315</td>\n",
              "      <td>0.087640</td>\n",
              "      <td>-0.015608</td>\n",
              "      <td>-0.022839</td>\n",
              "      <td>1.000000</td>\n",
              "      <td>-0.526964</td>\n",
              "    </tr>\n",
              "    <tr>\n",
              "      <th>DEATH_EVENT</th>\n",
              "      <td>0.253729</td>\n",
              "      <td>0.066270</td>\n",
              "      <td>0.062728</td>\n",
              "      <td>-0.001943</td>\n",
              "      <td>-0.268603</td>\n",
              "      <td>0.079351</td>\n",
              "      <td>-0.049139</td>\n",
              "      <td>0.294278</td>\n",
              "      <td>-0.195204</td>\n",
              "      <td>-0.004316</td>\n",
              "      <td>-0.012623</td>\n",
              "      <td>-0.526964</td>\n",
              "      <td>1.000000</td>\n",
              "    </tr>\n",
              "  </tbody>\n",
              "</table>\n",
              "</div>"
            ],
            "text/plain": [
              "                               age   anaemia  ...      time  DEATH_EVENT\n",
              "age                       1.000000  0.088006  ... -0.224068     0.253729\n",
              "anaemia                   0.088006  1.000000  ... -0.141414     0.066270\n",
              "creatinine_phosphokinase -0.081584 -0.190741  ... -0.009346     0.062728\n",
              "diabetes                 -0.101012 -0.012729  ...  0.033726    -0.001943\n",
              "ejection_fraction         0.060098  0.031557  ...  0.041729    -0.268603\n",
              "high_blood_pressure       0.093289  0.038182  ... -0.196439     0.079351\n",
              "platelets                -0.052354 -0.043786  ...  0.010514    -0.049139\n",
              "serum_creatinine          0.159187  0.052174  ... -0.149315     0.294278\n",
              "serum_sodium             -0.045966  0.041882  ...  0.087640    -0.195204\n",
              "sex                       0.065430 -0.094769  ... -0.015608    -0.004316\n",
              "smoking                   0.018668 -0.107290  ... -0.022839    -0.012623\n",
              "time                     -0.224068 -0.141414  ...  1.000000    -0.526964\n",
              "DEATH_EVENT               0.253729  0.066270  ... -0.526964     1.000000\n",
              "\n",
              "[13 rows x 13 columns]"
            ]
          },
          "metadata": {},
          "execution_count": 22
        }
      ]
    },
    {
      "cell_type": "markdown",
      "metadata": {
        "id": "GOtKeWPDcS9v"
      },
      "source": [
        "Esta funcion nos ayuda a saber que tan correlacionados estan nuestros datos de todas las columnas."
      ]
    },
    {
      "cell_type": "markdown",
      "metadata": {
        "id": "qb2otn7TbJdN"
      },
      "source": [
        "* **Funcion cov**"
      ]
    },
    {
      "cell_type": "code",
      "metadata": {
        "colab": {
          "base_uri": "https://localhost:8080/",
          "height": 477
        },
        "id": "0gKttxm8cejC",
        "outputId": "0df41b30-d172-427f-c1f5-9f945e0596ff"
      },
      "source": [
        "heart.cov()"
      ],
      "execution_count": null,
      "outputs": [
        {
          "output_type": "execute_result",
          "data": {
            "text/html": [
              "<div>\n",
              "<style scoped>\n",
              "    .dataframe tbody tr th:only-of-type {\n",
              "        vertical-align: middle;\n",
              "    }\n",
              "\n",
              "    .dataframe tbody tr th {\n",
              "        vertical-align: top;\n",
              "    }\n",
              "\n",
              "    .dataframe thead th {\n",
              "        text-align: right;\n",
              "    }\n",
              "</style>\n",
              "<table border=\"1\" class=\"dataframe\">\n",
              "  <thead>\n",
              "    <tr style=\"text-align: right;\">\n",
              "      <th></th>\n",
              "      <th>age</th>\n",
              "      <th>anaemia</th>\n",
              "      <th>creatinine_phosphokinase</th>\n",
              "      <th>diabetes</th>\n",
              "      <th>ejection_fraction</th>\n",
              "      <th>high_blood_pressure</th>\n",
              "      <th>platelets</th>\n",
              "      <th>serum_creatinine</th>\n",
              "      <th>serum_sodium</th>\n",
              "      <th>sex</th>\n",
              "      <th>smoking</th>\n",
              "      <th>time</th>\n",
              "      <th>DEATH_EVENT</th>\n",
              "    </tr>\n",
              "  </thead>\n",
              "  <tbody>\n",
              "    <tr>\n",
              "      <th>age</th>\n",
              "      <td>141.486483</td>\n",
              "      <td>0.519335</td>\n",
              "      <td>-9.415915e+02</td>\n",
              "      <td>-0.593633</td>\n",
              "      <td>8.460237</td>\n",
              "      <td>0.530565</td>\n",
              "      <td>-6.090712e+04</td>\n",
              "      <td>1.958845</td>\n",
              "      <td>-2.412544</td>\n",
              "      <td>0.372120</td>\n",
              "      <td>0.103847</td>\n",
              "      <td>-206.861351</td>\n",
              "      <td>1.411454</td>\n",
              "    </tr>\n",
              "    <tr>\n",
              "      <th>anaemia</th>\n",
              "      <td>0.519335</td>\n",
              "      <td>0.246122</td>\n",
              "      <td>-9.181641e+01</td>\n",
              "      <td>-0.003120</td>\n",
              "      <td>0.185282</td>\n",
              "      <td>0.009057</td>\n",
              "      <td>-2.124536e+03</td>\n",
              "      <td>0.026777</td>\n",
              "      <td>0.091681</td>\n",
              "      <td>-0.022480</td>\n",
              "      <td>-0.024893</td>\n",
              "      <td>-5.445142</td>\n",
              "      <td>0.015376</td>\n",
              "    </tr>\n",
              "    <tr>\n",
              "      <th>creatinine_phosphokinase</th>\n",
              "      <td>-941.591531</td>\n",
              "      <td>-91.816413</td>\n",
              "      <td>9.414586e+05</td>\n",
              "      <td>-4.620581</td>\n",
              "      <td>-506.174452</td>\n",
              "      <td>-32.748805</td>\n",
              "      <td>2.321533e+06</td>\n",
              "      <td>-16.470382</td>\n",
              "      <td>254.956443</td>\n",
              "      <td>37.017261</td>\n",
              "      <td>1.098696</td>\n",
              "      <td>-703.803618</td>\n",
              "      <td>28.464468</td>\n",
              "    </tr>\n",
              "    <tr>\n",
              "      <th>diabetes</th>\n",
              "      <td>-0.593633</td>\n",
              "      <td>-0.003120</td>\n",
              "      <td>-4.620581e+00</td>\n",
              "      <td>0.244102</td>\n",
              "      <td>-0.028361</td>\n",
              "      <td>-0.003008</td>\n",
              "      <td>4.454928e+03</td>\n",
              "      <td>-0.024010</td>\n",
              "      <td>-0.195226</td>\n",
              "      <td>-0.037261</td>\n",
              "      <td>-0.034006</td>\n",
              "      <td>1.293259</td>\n",
              "      <td>-0.000449</td>\n",
              "    </tr>\n",
              "    <tr>\n",
              "      <th>ejection_fraction</th>\n",
              "      <td>8.460237</td>\n",
              "      <td>0.185282</td>\n",
              "      <td>-5.061745e+02</td>\n",
              "      <td>-0.028361</td>\n",
              "      <td>140.063455</td>\n",
              "      <td>0.138325</td>\n",
              "      <td>8.354524e+04</td>\n",
              "      <td>-0.138379</td>\n",
              "      <td>9.185787</td>\n",
              "      <td>-0.839667</td>\n",
              "      <td>-0.372573</td>\n",
              "      <td>38.330464</td>\n",
              "      <td>-1.486667</td>\n",
              "    </tr>\n",
              "    <tr>\n",
              "      <th>high_blood_pressure</th>\n",
              "      <td>0.530565</td>\n",
              "      <td>0.009057</td>\n",
              "      <td>-3.274880e+01</td>\n",
              "      <td>-0.003008</td>\n",
              "      <td>0.138325</td>\n",
              "      <td>0.228614</td>\n",
              "      <td>2.336480e+03</td>\n",
              "      <td>-0.002441</td>\n",
              "      <td>0.078292</td>\n",
              "      <td>-0.023916</td>\n",
              "      <td>-0.012458</td>\n",
              "      <td>-7.289904</td>\n",
              "      <td>0.017744</td>\n",
              "    </tr>\n",
              "    <tr>\n",
              "      <th>platelets</th>\n",
              "      <td>-60907.118586</td>\n",
              "      <td>-2124.535856</td>\n",
              "      <td>2.321533e+06</td>\n",
              "      <td>4454.928228</td>\n",
              "      <td>83545.241001</td>\n",
              "      <td>2336.480427</td>\n",
              "      <td>9.565669e+09</td>\n",
              "      <td>-4168.399498</td>\n",
              "      <td>26810.436905</td>\n",
              "      <td>-5851.104689</td>\n",
              "      <td>1291.447854</td>\n",
              "      <td>79811.066099</td>\n",
              "      <td>-2247.619159</td>\n",
              "    </tr>\n",
              "    <tr>\n",
              "      <th>serum_creatinine</th>\n",
              "      <td>1.958845</td>\n",
              "      <td>0.026777</td>\n",
              "      <td>-1.647038e+01</td>\n",
              "      <td>-0.024010</td>\n",
              "      <td>-0.138379</td>\n",
              "      <td>-0.002441</td>\n",
              "      <td>-4.168399e+03</td>\n",
              "      <td>1.070211</td>\n",
              "      <td>-0.863173</td>\n",
              "      <td>0.003448</td>\n",
              "      <td>-0.013263</td>\n",
              "      <td>-11.988935</td>\n",
              "      <td>0.142374</td>\n",
              "    </tr>\n",
              "    <tr>\n",
              "      <th>serum_sodium</th>\n",
              "      <td>-2.412544</td>\n",
              "      <td>0.091681</td>\n",
              "      <td>2.549564e+02</td>\n",
              "      <td>-0.195226</td>\n",
              "      <td>9.185787</td>\n",
              "      <td>0.078292</td>\n",
              "      <td>2.681044e+04</td>\n",
              "      <td>-0.863173</td>\n",
              "      <td>19.469956</td>\n",
              "      <td>-0.058158</td>\n",
              "      <td>0.009932</td>\n",
              "      <td>30.014152</td>\n",
              "      <td>-0.402819</td>\n",
              "    </tr>\n",
              "    <tr>\n",
              "      <th>sex</th>\n",
              "      <td>0.372120</td>\n",
              "      <td>-0.022480</td>\n",
              "      <td>3.701726e+01</td>\n",
              "      <td>-0.037261</td>\n",
              "      <td>-0.839667</td>\n",
              "      <td>-0.023916</td>\n",
              "      <td>-5.851105e+03</td>\n",
              "      <td>0.003448</td>\n",
              "      <td>-0.058158</td>\n",
              "      <td>0.228614</td>\n",
              "      <td>0.099706</td>\n",
              "      <td>-0.579224</td>\n",
              "      <td>-0.000965</td>\n",
              "    </tr>\n",
              "    <tr>\n",
              "      <th>smoking</th>\n",
              "      <td>0.103847</td>\n",
              "      <td>-0.024893</td>\n",
              "      <td>1.098696e+00</td>\n",
              "      <td>-0.034006</td>\n",
              "      <td>-0.372573</td>\n",
              "      <td>-0.012458</td>\n",
              "      <td>1.291448e+03</td>\n",
              "      <td>-0.013263</td>\n",
              "      <td>0.009932</td>\n",
              "      <td>0.099706</td>\n",
              "      <td>0.218716</td>\n",
              "      <td>-0.829005</td>\n",
              "      <td>-0.002761</td>\n",
              "    </tr>\n",
              "    <tr>\n",
              "      <th>time</th>\n",
              "      <td>-206.861351</td>\n",
              "      <td>-5.445142</td>\n",
              "      <td>-7.038036e+02</td>\n",
              "      <td>1.293259</td>\n",
              "      <td>38.330464</td>\n",
              "      <td>-7.289904</td>\n",
              "      <td>7.981107e+04</td>\n",
              "      <td>-11.988935</td>\n",
              "      <td>30.014152</td>\n",
              "      <td>-0.579224</td>\n",
              "      <td>-0.829005</td>\n",
              "      <td>6023.965276</td>\n",
              "      <td>-19.127663</td>\n",
              "    </tr>\n",
              "    <tr>\n",
              "      <th>DEATH_EVENT</th>\n",
              "      <td>1.411454</td>\n",
              "      <td>0.015376</td>\n",
              "      <td>2.846447e+01</td>\n",
              "      <td>-0.000449</td>\n",
              "      <td>-1.486667</td>\n",
              "      <td>0.017744</td>\n",
              "      <td>-2.247619e+03</td>\n",
              "      <td>0.142374</td>\n",
              "      <td>-0.402819</td>\n",
              "      <td>-0.000965</td>\n",
              "      <td>-0.002761</td>\n",
              "      <td>-19.127663</td>\n",
              "      <td>0.218716</td>\n",
              "    </tr>\n",
              "  </tbody>\n",
              "</table>\n",
              "</div>"
            ],
            "text/plain": [
              "                                   age      anaemia  ...          time  DEATH_EVENT\n",
              "age                         141.486483     0.519335  ...   -206.861351     1.411454\n",
              "anaemia                       0.519335     0.246122  ...     -5.445142     0.015376\n",
              "creatinine_phosphokinase   -941.591531   -91.816413  ...   -703.803618    28.464468\n",
              "diabetes                     -0.593633    -0.003120  ...      1.293259    -0.000449\n",
              "ejection_fraction             8.460237     0.185282  ...     38.330464    -1.486667\n",
              "high_blood_pressure           0.530565     0.009057  ...     -7.289904     0.017744\n",
              "platelets                -60907.118586 -2124.535856  ...  79811.066099 -2247.619159\n",
              "serum_creatinine              1.958845     0.026777  ...    -11.988935     0.142374\n",
              "serum_sodium                 -2.412544     0.091681  ...     30.014152    -0.402819\n",
              "sex                           0.372120    -0.022480  ...     -0.579224    -0.000965\n",
              "smoking                       0.103847    -0.024893  ...     -0.829005    -0.002761\n",
              "time                       -206.861351    -5.445142  ...   6023.965276   -19.127663\n",
              "DEATH_EVENT                   1.411454     0.015376  ...    -19.127663     0.218716\n",
              "\n",
              "[13 rows x 13 columns]"
            ]
          },
          "metadata": {},
          "execution_count": 23
        }
      ]
    },
    {
      "cell_type": "markdown",
      "metadata": {
        "id": "2OWfkAUBcibO"
      },
      "source": [
        "Esta funcion nos ayuda a saber la covarianza de los datos de todas las columnas."
      ]
    },
    {
      "cell_type": "markdown",
      "metadata": {
        "id": "y5U5Gyoq1qJL"
      },
      "source": [
        "  **GRAFICAS**"
      ]
    },
    {
      "cell_type": "code",
      "metadata": {
        "id": "KA_D6Pfs20o5"
      },
      "source": [
        "import pandas as pd\n",
        "import matplotlib as plt\n",
        "%matplotlib inline"
      ],
      "execution_count": null,
      "outputs": []
    },
    {
      "cell_type": "code",
      "metadata": {
        "colab": {
          "base_uri": "https://localhost:8080/",
          "height": 163
        },
        "id": "q4A0IOqy18jX",
        "outputId": "f772e5e8-8b67-4f13-f9a3-b419d26be0ec"
      },
      "source": [
        "heart.head(3)"
      ],
      "execution_count": null,
      "outputs": [
        {
          "output_type": "execute_result",
          "data": {
            "text/html": [
              "<div>\n",
              "<style scoped>\n",
              "    .dataframe tbody tr th:only-of-type {\n",
              "        vertical-align: middle;\n",
              "    }\n",
              "\n",
              "    .dataframe tbody tr th {\n",
              "        vertical-align: top;\n",
              "    }\n",
              "\n",
              "    .dataframe thead th {\n",
              "        text-align: right;\n",
              "    }\n",
              "</style>\n",
              "<table border=\"1\" class=\"dataframe\">\n",
              "  <thead>\n",
              "    <tr style=\"text-align: right;\">\n",
              "      <th></th>\n",
              "      <th>age</th>\n",
              "      <th>anaemia</th>\n",
              "      <th>creatinine_phosphokinase</th>\n",
              "      <th>diabetes</th>\n",
              "      <th>ejection_fraction</th>\n",
              "      <th>high_blood_pressure</th>\n",
              "      <th>platelets</th>\n",
              "      <th>serum_creatinine</th>\n",
              "      <th>serum_sodium</th>\n",
              "      <th>sex</th>\n",
              "      <th>smoking</th>\n",
              "      <th>time</th>\n",
              "      <th>DEATH_EVENT</th>\n",
              "    </tr>\n",
              "  </thead>\n",
              "  <tbody>\n",
              "    <tr>\n",
              "      <th>0</th>\n",
              "      <td>75.0</td>\n",
              "      <td>0</td>\n",
              "      <td>582</td>\n",
              "      <td>0</td>\n",
              "      <td>20</td>\n",
              "      <td>1</td>\n",
              "      <td>265000.00</td>\n",
              "      <td>1.9</td>\n",
              "      <td>130</td>\n",
              "      <td>1</td>\n",
              "      <td>0</td>\n",
              "      <td>4</td>\n",
              "      <td>1</td>\n",
              "    </tr>\n",
              "    <tr>\n",
              "      <th>1</th>\n",
              "      <td>55.0</td>\n",
              "      <td>0</td>\n",
              "      <td>7861</td>\n",
              "      <td>0</td>\n",
              "      <td>38</td>\n",
              "      <td>0</td>\n",
              "      <td>263358.03</td>\n",
              "      <td>1.1</td>\n",
              "      <td>136</td>\n",
              "      <td>1</td>\n",
              "      <td>0</td>\n",
              "      <td>6</td>\n",
              "      <td>1</td>\n",
              "    </tr>\n",
              "    <tr>\n",
              "      <th>2</th>\n",
              "      <td>65.0</td>\n",
              "      <td>0</td>\n",
              "      <td>146</td>\n",
              "      <td>0</td>\n",
              "      <td>20</td>\n",
              "      <td>0</td>\n",
              "      <td>162000.00</td>\n",
              "      <td>1.3</td>\n",
              "      <td>129</td>\n",
              "      <td>1</td>\n",
              "      <td>1</td>\n",
              "      <td>7</td>\n",
              "      <td>1</td>\n",
              "    </tr>\n",
              "  </tbody>\n",
              "</table>\n",
              "</div>"
            ],
            "text/plain": [
              "    age  anaemia  creatinine_phosphokinase  ...  smoking  time  DEATH_EVENT\n",
              "0  75.0        0                       582  ...        0     4            1\n",
              "1  55.0        0                      7861  ...        0     6            1\n",
              "2  65.0        0                       146  ...        1     7            1\n",
              "\n",
              "[3 rows x 13 columns]"
            ]
          },
          "metadata": {},
          "execution_count": 25
        }
      ]
    },
    {
      "cell_type": "code",
      "metadata": {
        "colab": {
          "base_uri": "https://localhost:8080/"
        },
        "id": "sW726U7-2CHb",
        "outputId": "8baa1b07-0c9c-47ea-b041-309aa4a65262"
      },
      "source": [
        "heart.columns"
      ],
      "execution_count": null,
      "outputs": [
        {
          "output_type": "execute_result",
          "data": {
            "text/plain": [
              "Index(['age', 'anaemia', 'creatinine_phosphokinase', 'diabetes',\n",
              "       'ejection_fraction', 'high_blood_pressure', 'platelets',\n",
              "       'serum_creatinine', 'serum_sodium', 'sex', 'smoking', 'time',\n",
              "       'DEATH_EVENT'],\n",
              "      dtype='object')"
            ]
          },
          "metadata": {},
          "execution_count": 26
        }
      ]
    },
    {
      "cell_type": "markdown",
      "metadata": {
        "id": "8V4WtCRh2hXE"
      },
      "source": [
        "* **Graficas de barras y datos categoricos**"
      ]
    },
    {
      "cell_type": "code",
      "metadata": {
        "colab": {
          "base_uri": "https://localhost:8080/",
          "height": 291
        },
        "id": "wgdJDYo92oI6",
        "outputId": "1a820e90-6e55-4667-998e-2f9d81fa96be"
      },
      "source": [
        "heart.plot.bar()"
      ],
      "execution_count": null,
      "outputs": [
        {
          "output_type": "execute_result",
          "data": {
            "text/plain": [
              "<matplotlib.axes._subplots.AxesSubplot at 0x7f3aefbdac50>"
            ]
          },
          "metadata": {},
          "execution_count": 27
        },
        {
          "output_type": "display_data",
          "data": {
            "image/png": "[encoded data removed]",
            "text/plain": [
              "<Figure size 432x288 with 1 Axes>"
            ]
          },
          "metadata": {
            "needs_background": "light"
          }
        }
      ]
    },
    {
      "cell_type": "markdown",
      "metadata": {
        "id": "hv0vBYli3YOQ"
      },
      "source": [
        "Como podemos ver nuestra grafica de barras si grafico todas nuestras columnas por que todas son datos numericos solo que la mas notoria es la columna de plaquetas que esta en rosa ya que los datos son extremadamente grandes a comparacion de las demas columnas y por obvias razones va a destacar por la escala."
      ]
    },
    {
      "cell_type": "code",
      "metadata": {
        "colab": {
          "base_uri": "https://localhost:8080/",
          "height": 291
        },
        "id": "Az31sGHN3--5",
        "outputId": "c05792d8-91ea-43f2-9de6-100715fc2c75"
      },
      "source": [
        "heart['time'].plot.bar()"
      ],
      "execution_count": null,
      "outputs": [
        {
          "output_type": "execute_result",
          "data": {
            "text/plain": [
              "<matplotlib.axes._subplots.AxesSubplot at 0x7f3ad0422410>"
            ]
          },
          "metadata": {},
          "execution_count": 30
        },
        {
          "output_type": "display_data",
          "data": {
            "image/png": "[encoded data removed]",
            "text/plain": [
              "<Figure size 432x288 with 1 Axes>"
            ]
          },
          "metadata": {
            "needs_background": "light"
          }
        }
      ]
    },
    {
      "cell_type": "markdown",
      "metadata": {
        "id": "H0auXEay4VY8"
      },
      "source": [
        "En la grafica de arriba se observan el tiempo de seguimiento en dias  de las 299 personas de nuestra base de datos."
      ]
    },
    {
      "cell_type": "code",
      "metadata": {
        "colab": {
          "base_uri": "https://localhost:8080/",
          "height": 291
        },
        "id": "xLOVt7o3-Wec",
        "outputId": "c25efb3a-15d8-4477-c9eb-bc1d1cefd05a"
      },
      "source": [
        "heart['age'].plot.bar()"
      ],
      "execution_count": null,
      "outputs": [
        {
          "output_type": "execute_result",
          "data": {
            "text/plain": [
              "<matplotlib.axes._subplots.AxesSubplot at 0x7f3ae49aed90>"
            ]
          },
          "metadata": {},
          "execution_count": 33
        },
        {
          "output_type": "display_data",
          "data": {
            "image/png": "[encoded data removed]",
            "text/plain": [
              "<Figure size 432x288 with 1 Axes>"
            ]
          },
          "metadata": {
            "needs_background": "light"
          }
        }
      ]
    },
    {
      "cell_type": "markdown",
      "metadata": {
        "id": "4GwjzfKi-wNN"
      },
      "source": [
        "Graficando la edad de las personas de nuestra base nos damos cuenta que tantos datos nos causan ruido por lo que tenemos que hacerla con menos datos para apreciar mejor la informacion."
      ]
    },
    {
      "cell_type": "code",
      "metadata": {
        "colab": {
          "base_uri": "https://localhost:8080/",
          "height": 279
        },
        "id": "PI5vOhWm4d8N",
        "outputId": "2b210a27-6b33-4dd7-c7d0-e9ed61a3e69d"
      },
      "source": [
        "heart['age'].head(10).plot.bar()"
      ],
      "execution_count": null,
      "outputs": [
        {
          "output_type": "execute_result",
          "data": {
            "text/plain": [
              "<matplotlib.axes._subplots.AxesSubplot at 0x7f3acaf224d0>"
            ]
          },
          "metadata": {},
          "execution_count": 32
        },
        {
          "output_type": "display_data",
          "data": {
            "image/png": "[encoded data removed]",
            "text/plain": [
              "<Figure size 432x288 with 1 Axes>"
            ]
          },
          "metadata": {
            "needs_background": "light"
          }
        }
      ]
    },
    {
      "cell_type": "markdown",
      "metadata": {
        "id": "_nXWXPWi90Xg"
      },
      "source": [
        "Arriba vemos graficamente las primeras 10 edades de las personas de nuestra base. Podemos ver que la mayoria son menor a 80 a excepcion de 2. Tambien podemos observar que la persona mas grande es la que se encuentra en la posicion 5 de nuestras primeras 10 posiciones."
      ]
    },
    {
      "cell_type": "markdown",
      "metadata": {
        "id": "mFQqW-GKAbRO"
      },
      "source": [
        "Tambien podemos ver nuestro eje y en valor de proporciones."
      ]
    },
    {
      "cell_type": "code",
      "metadata": {
        "colab": {
          "base_uri": "https://localhost:8080/",
          "height": 279
        },
        "id": "wd1LORuxBBEN",
        "outputId": "6a18ee6c-e5e8-4336-bb0a-cbee7de389f8"
      },
      "source": [
        "(heart['age'].head(10)/len(heart)).plot.bar()"
      ],
      "execution_count": null,
      "outputs": [
        {
          "output_type": "execute_result",
          "data": {
            "text/plain": [
              "<matplotlib.axes._subplots.AxesSubplot at 0x7f3acafc5450>"
            ]
          },
          "metadata": {},
          "execution_count": 34
        },
        {
          "output_type": "display_data",
          "data": {
            "image/png": "[encoded data removed]",
            "text/plain": [
              "<Figure size 432x288 with 1 Axes>"
            ]
          },
          "metadata": {
            "needs_background": "light"
          }
        }
      ]
    },
    {
      "cell_type": "markdown",
      "metadata": {
        "id": "maSUZDvmIp5l"
      },
      "source": [
        "*   **Grafica de lineas**\n",
        "\n",
        "\n"
      ]
    },
    {
      "cell_type": "code",
      "metadata": {
        "colab": {
          "base_uri": "https://localhost:8080/",
          "height": 283
        },
        "id": "--UOglFkImsv",
        "outputId": "e4b113a9-50e3-4e6e-d069-88eb0c654a9a"
      },
      "source": [
        "heart['ejection_fraction'].value_counts().sort_index().plot.line()"
      ],
      "execution_count": null,
      "outputs": [
        {
          "output_type": "execute_result",
          "data": {
            "text/plain": [
              "<matplotlib.axes._subplots.AxesSubplot at 0x7ffa322ab1d0>"
            ]
          },
          "metadata": {},
          "execution_count": 13
        },
        {
          "output_type": "display_data",
          "data": {
            "image/png": "[encoded data removed]",
            "text/plain": [
              "<Figure size 432x288 with 1 Axes>"
            ]
          },
          "metadata": {
            "needs_background": "light"
          }
        }
      ]
    },
    {
      "cell_type": "markdown",
      "metadata": {
        "id": "tzPsFmzZJbiC"
      },
      "source": [
        "En la grafica de arriba podemos ver, en el eje X, los valores de porcentaje de sangre total saliendo del corazón por latido. En el eje Y el total de personas que cuentan con ese porcentaje. \n",
        "\n",
        "Se aprecia que la mayoría ronda entre el 25% y 40%, mientras que también hay una cantidad considerable en un 60%."
      ]
    },
    {
      "cell_type": "markdown",
      "metadata": {
        "id": "Y4JuGE-zKjcL"
      },
      "source": [
        "*   **Histogramas**"
      ]
    },
    {
      "cell_type": "code",
      "metadata": {
        "colab": {
          "base_uri": "https://localhost:8080/",
          "height": 283
        },
        "id": "IVNgb0-6KqM5",
        "outputId": "70b7d141-5c9c-465e-8936-6e120ffa807f"
      },
      "source": [
        "heart['ejection_fraction'].plot.hist()"
      ],
      "execution_count": null,
      "outputs": [
        {
          "output_type": "execute_result",
          "data": {
            "text/plain": [
              "<matplotlib.axes._subplots.AxesSubplot at 0x7ffa32297910>"
            ]
          },
          "metadata": {},
          "execution_count": 14
        },
        {
          "output_type": "display_data",
          "data": {
            "image/png": "[encoded data removed]",
            "text/plain": [
              "<Figure size 432x288 with 1 Axes>"
            ]
          },
          "metadata": {
            "needs_background": "light"
          }
        }
      ]
    },
    {
      "cell_type": "markdown",
      "metadata": {
        "id": "Hzjra6YHLzrq"
      },
      "source": [
        "En este histograma logramos tener una visualizacion más simple de la cantidad de gente y cuanto porcentaje de sangre expulsa por latido."
      ]
    },
    {
      "cell_type": "code",
      "metadata": {
        "colab": {
          "base_uri": "https://localhost:8080/",
          "height": 283
        },
        "id": "HO8SUOeSLhWv",
        "outputId": "e344b3fd-6594-4f7d-ec03-6350abf6b371"
      },
      "source": [
        "heart[heart['creatinine_phosphokinase'] < 200]['creatinine_phosphokinase'].plot.hist()"
      ],
      "execution_count": null,
      "outputs": [
        {
          "output_type": "execute_result",
          "data": {
            "text/plain": [
              "<matplotlib.axes._subplots.AxesSubplot at 0x7ffa323818d0>"
            ]
          },
          "metadata": {},
          "execution_count": 16
        },
        {
          "output_type": "display_data",
          "data": {
            "image/png": "[encoded data removed]",
            "text/plain": [
              "<Figure size 432x288 with 1 Axes>"
            ]
          },
          "metadata": {
            "needs_background": "light"
          }
        }
      ]
    },
    {
      "cell_type": "markdown",
      "metadata": {
        "id": "Wl2e--j3MK1u"
      },
      "source": [
        "En el histograma de arriba podemos empezar a llegar a algunas conclusiones. La enzima CPK se crea cuando el corazón, el cerebro o algun musculo esta dañado. Arriba de los 200 mcg/L es cuando se empieza a considerar una cantidad alarmante, por lo que estos pacientes no necesariamente están próximos a problemas del corazón."
      ]
    },
    {
      "cell_type": "code",
      "metadata": {
        "colab": {
          "base_uri": "https://localhost:8080/",
          "height": 283
        },
        "id": "YXNYyEEfNjlw",
        "outputId": "40389ba5-e087-4a4d-d934-5b10a6fd722f"
      },
      "source": [
        "heart['time'].plot.hist()"
      ],
      "execution_count": null,
      "outputs": [
        {
          "output_type": "execute_result",
          "data": {
            "text/plain": [
              "<matplotlib.axes._subplots.AxesSubplot at 0x7ffa3169cc10>"
            ]
          },
          "metadata": {},
          "execution_count": 17
        },
        {
          "output_type": "display_data",
          "data": {
            "image/png": "[encoded data removed]",
            "text/plain": [
              "<Figure size 432x288 with 1 Axes>"
            ]
          },
          "metadata": {
            "needs_background": "light"
          }
        }
      ]
    },
    {
      "cell_type": "markdown",
      "metadata": {
        "id": "OczZPo5nNqeR"
      },
      "source": [
        "Este histograma nos ayuda a tener un mejor entendimiento de la cantidad de pacientes y la cantidad de visitas que tuvieron."
      ]
    },
    {
      "cell_type": "markdown",
      "metadata": {
        "id": "dC28RBjTN9fI"
      },
      "source": [
        "*   **Graficar datos bi-variantes**"
      ]
    },
    {
      "cell_type": "code",
      "metadata": {
        "colab": {
          "base_uri": "https://localhost:8080/",
          "height": 297
        },
        "id": "xyoE7rSEOtI5",
        "outputId": "542ebb29-37f5-4b6c-c2e2-7c817070013a"
      },
      "source": [
        "heart[heart['age'] < 70].plot.scatter(x='age', y='time')"
      ],
      "execution_count": null,
      "outputs": [
        {
          "output_type": "execute_result",
          "data": {
            "text/plain": [
              "<matplotlib.axes._subplots.AxesSubplot at 0x7ffa31350dd0>"
            ]
          },
          "metadata": {},
          "execution_count": 23
        },
        {
          "output_type": "display_data",
          "data": {
            "image/png": "[encoded data removed]",
            "text/plain": [
              "<Figure size 432x288 with 1 Axes>"
            ]
          },
          "metadata": {
            "needs_background": "light"
          }
        }
      ]
    },
    {
      "cell_type": "markdown",
      "metadata": {
        "id": "p4bCFYvxQ1lj"
      },
      "source": [
        "Del grafico de arriba se puede obtener poca informacion relevante, los datos estan muy dispersos."
      ]
    },
    {
      "cell_type": "markdown",
      "metadata": {
        "id": "zXXCAFJSQPp2"
      },
      "source": [
        "Es dificil realizar una grafica de datos bi-variantes con esta base de datos, debido a que las correlaciones son muy pequeñas, la mayoría siendo practicamente 0. En los casos de correlacion con valores mas aceptables tambien hay problema, debido a que al menos una de las variables solo toma valores de 0 y 1."
      ]
    },
    {
      "cell_type": "markdown",
      "metadata": {
        "id": "SvVFhelKRITP"
      },
      "source": [
        "*   **Stacked plots**"
      ]
    },
    {
      "cell_type": "code",
      "metadata": {
        "colab": {
          "base_uri": "https://localhost:8080/",
          "height": 143
        },
        "id": "w-RXXFwtS5uK",
        "outputId": "11874a31-7699-4dcd-b236-9f09ab1e579b"
      },
      "source": [
        "nt = pd.read_csv(\"datos_fumar.csv\")\n",
        "nt.set_index('Smoking',inplace=True)\n",
        "nt"
      ],
      "execution_count": null,
      "outputs": [
        {
          "output_type": "execute_result",
          "data": {
            "text/html": [
              "<div>\n",
              "<style scoped>\n",
              "    .dataframe tbody tr th:only-of-type {\n",
              "        vertical-align: middle;\n",
              "    }\n",
              "\n",
              "    .dataframe tbody tr th {\n",
              "        vertical-align: top;\n",
              "    }\n",
              "\n",
              "    .dataframe thead th {\n",
              "        text-align: right;\n",
              "    }\n",
              "</style>\n",
              "<table border=\"1\" class=\"dataframe\">\n",
              "  <thead>\n",
              "    <tr style=\"text-align: right;\">\n",
              "      <th></th>\n",
              "      <th>10-19</th>\n",
              "      <th>20-29</th>\n",
              "      <th>30-39</th>\n",
              "      <th>40-49</th>\n",
              "      <th>50-59</th>\n",
              "      <th>60-69</th>\n",
              "      <th>70-79</th>\n",
              "      <th>80-89</th>\n",
              "    </tr>\n",
              "    <tr>\n",
              "      <th>Smoking</th>\n",
              "      <th></th>\n",
              "      <th></th>\n",
              "      <th></th>\n",
              "      <th></th>\n",
              "      <th></th>\n",
              "      <th></th>\n",
              "      <th></th>\n",
              "      <th></th>\n",
              "    </tr>\n",
              "  </thead>\n",
              "  <tbody>\n",
              "    <tr>\n",
              "      <th>0</th>\n",
              "      <td>4</td>\n",
              "      <td>36</td>\n",
              "      <td>78</td>\n",
              "      <td>40</td>\n",
              "      <td>19</td>\n",
              "      <td>24</td>\n",
              "      <td>1</td>\n",
              "      <td>1</td>\n",
              "    </tr>\n",
              "    <tr>\n",
              "      <th>1</th>\n",
              "      <td>1</td>\n",
              "      <td>18</td>\n",
              "      <td>45</td>\n",
              "      <td>17</td>\n",
              "      <td>5</td>\n",
              "      <td>10</td>\n",
              "      <td>0</td>\n",
              "      <td>0</td>\n",
              "    </tr>\n",
              "  </tbody>\n",
              "</table>\n",
              "</div>"
            ],
            "text/plain": [
              "         10-19  20-29  30-39  40-49  50-59  60-69  70-79  80-89\n",
              "Smoking                                                        \n",
              "0            4     36     78     40     19     24      1      1\n",
              "1            1     18     45     17      5     10      0      0"
            ]
          },
          "metadata": {},
          "execution_count": 33
        }
      ]
    },
    {
      "cell_type": "markdown",
      "metadata": {
        "id": "pSzzh1xSkEEl"
      },
      "source": [
        "El codigo de arriba es para importar la nueva tabla y acomodarla"
      ]
    },
    {
      "cell_type": "code",
      "metadata": {
        "colab": {
          "base_uri": "https://localhost:8080/",
          "height": 294
        },
        "id": "RW8NpqOvkJHo",
        "outputId": "b666fb48-d74d-49ba-c4d8-ee514ce62abb"
      },
      "source": [
        "nt.plot.bar(stacked=True)\n"
      ],
      "execution_count": null,
      "outputs": [
        {
          "output_type": "execute_result",
          "data": {
            "text/plain": [
              "<matplotlib.axes._subplots.AxesSubplot at 0x7f620f94f610>"
            ]
          },
          "metadata": {},
          "execution_count": 36
        },
        {
          "output_type": "display_data",
          "data": {
            "image/png": "[encoded data removed]",
            "text/plain": [
              "<Figure size 432x288 with 1 Axes>"
            ]
          },
          "metadata": {
            "needs_background": "light"
          }
        }
      ]
    },
    {
      "cell_type": "markdown",
      "metadata": {
        "id": "Z9kV7EmNkzGG"
      },
      "source": [
        "La tabla de arriba nos muestra la cantidad total de personas que fuman y no fuman, a la vez divide las barras por el porcentaje de expulsion de sangre por latido."
      ]
    },
    {
      "cell_type": "markdown",
      "metadata": {
        "id": "KbTf5K_LHmTX"
      },
      "source": [
        "*   **Box Plots**"
      ]
    },
    {
      "cell_type": "code",
      "metadata": {
        "colab": {
          "base_uri": "https://localhost:8080/",
          "height": 297
        },
        "id": "MUs9MhrlHrG2",
        "outputId": "33371f85-275d-4c43-c123-c123eac641e7"
      },
      "source": [
        "import seaborn as sns\n",
        "df = heart[heart.age.isin(heart.age.head(10).value_counts().index)]\n",
        "\n",
        "sns.boxplot(x='age',y='ejection_fraction',data=df)"
      ],
      "execution_count": null,
      "outputs": [
        {
          "output_type": "execute_result",
          "data": {
            "text/plain": [
              "<matplotlib.axes._subplots.AxesSubplot at 0x7f71fb7adfd0>"
            ]
          },
          "metadata": {},
          "execution_count": 21
        },
        {
          "output_type": "display_data",
          "data": {
            "image/png": "[encoded data removed]",
            "text/plain": [
              "<Figure size 432x288 with 1 Axes>"
            ]
          },
          "metadata": {
            "needs_background": "light"
          }
        }
      ]
    },
    {
      "cell_type": "markdown",
      "metadata": {
        "id": "13tKBCadNnfs"
      },
      "source": [
        "Este boxplot nos permite ver cuanto porcentage de sangre expulsan, por latido, los pacientes conforme a su edad. Nos permite darnos una idea de cual podría ser la media conforme a la edad."
      ]
    },
    {
      "cell_type": "code",
      "metadata": {
        "colab": {
          "base_uri": "https://localhost:8080/",
          "height": 297
        },
        "id": "Edk--Xk8Onjx",
        "outputId": "155873cf-04d0-4565-c2e4-7fe6c0b79284"
      },
      "source": [
        "sns.violinplot(x='age',y='ejection_fraction',data=heart[heart.age.isin(heart.age.head(10).value_counts().index)])"
      ],
      "execution_count": null,
      "outputs": [
        {
          "output_type": "execute_result",
          "data": {
            "text/plain": [
              "<matplotlib.axes._subplots.AxesSubplot at 0x7f71fb55ffd0>"
            ]
          },
          "metadata": {},
          "execution_count": 22
        },
        {
          "output_type": "display_data",
          "data": {
            "image/png": "[encoded data removed]",
            "text/plain": [
              "<Figure size 432x288 with 1 Axes>"
            ]
          },
          "metadata": {
            "needs_background": "light"
          }
        }
      ]
    },
    {
      "cell_type": "code",
      "metadata": {
        "id": "0izHjqoGPsBU"
      },
      "source": [
        "El diagrama de violinplot es similar al de boxplot, solamente que nos permite ver la densidad."
      ],
      "execution_count": null,
      "outputs": []
    },
    {
      "cell_type": "markdown",
      "metadata": {
        "id": "Yk_Cw-6WyFtV"
      },
      "source": [
        "*   **Graficas Multi variantes**"
      ]
    },
    {
      "cell_type": "code",
      "metadata": {
        "colab": {
          "base_uri": "https://localhost:8080/",
          "height": 386
        },
        "id": "Zu1NMOcpyNQa",
        "outputId": "ebf5fa62-9674-4600-9a4b-f1d2b27ab0ba"
      },
      "source": [
        "import seaborn as sns\n",
        "import matplotlib.pyplot as plt\n",
        "\n",
        "sns.lmplot(x='ejection_fraction', y='serum_creatinine', hue='DEATH_EVENT', \n",
        "           data=heart.loc[heart['DEATH_EVENT'].isin(['0', '1'])], \n",
        "           fit_reg=False)"
      ],
      "execution_count": null,
      "outputs": [
        {
          "output_type": "execute_result",
          "data": {
            "text/plain": [
              "<seaborn.axisgrid.FacetGrid at 0x7f5a112d5210>"
            ]
          },
          "metadata": {},
          "execution_count": 13
        },
        {
          "output_type": "display_data",
          "data": {
            "image/png": "[encoded data removed]",
            "text/plain": [
              "<Figure size 439.5x360 with 1 Axes>"
            ]
          },
          "metadata": {
            "needs_background": "light"
          }
        }
      ]
    },
    {
      "cell_type": "markdown",
      "metadata": {
        "id": "YxW8Ed-4yd4S"
      },
      "source": [
        "Del grafico de arriba podemos ver la relacion que existe entre el porcentaje de sangre que sale del corazón en cada contracción y el nivel de creatinina sérica en sangre para ocasionar el evento de muerte, teniendo como resultado que mientras el porcentaje de sangre que sale del corazon baja y el nivel de creatinina baja existen un mayor número de muertes\n"
      ]
    },
    {
      "cell_type": "code",
      "metadata": {
        "id": "uAGdCjzwRPnk",
        "colab": {
          "base_uri": "https://localhost:8080/",
          "height": 386
        },
        "outputId": "bd652a72-50e8-477a-a5b6-af6fdd103444"
      },
      "source": [
        "import seaborn as sns\n",
        "import matplotlib.pyplot as plt\n",
        "sns.lmplot(x='ejection_fraction', y='time', hue='DEATH_EVENT', \n",
        "           data=heart.loc[heart['DEATH_EVENT'].isin(['0', '1'])], \n",
        "           fit_reg=False)"
      ],
      "execution_count": null,
      "outputs": [
        {
          "output_type": "execute_result",
          "data": {
            "text/plain": [
              "<seaborn.axisgrid.FacetGrid at 0x7fdc4745a9d0>"
            ]
          },
          "metadata": {},
          "execution_count": 4
        },
        {
          "output_type": "display_data",
          "data": {
            "image/png": "[encoded data removed]",
            "text/plain": [
              "<Figure size 439.5x360 with 1 Axes>"
            ]
          },
          "metadata": {
            "needs_background": "light"
          }
        }
      ]
    },
    {
      "cell_type": "markdown",
      "metadata": {
        "id": "-VseZUNaRp8H"
      },
      "source": [
        "Haciendo la misma grafica pero cambiando la variable del nivel de creatinina sérica en sangre por la del periodo de seguimiento (time) podemos ver como al igual que la grafica pasada como con valores bajos en ambas variables tenemos un mayor numero de muertes, sin embargo con esta podemos ver con mayor precision que si aumentos el valor a la variable time tenemos un mayor numero de sobrevivientes, haciendonos pensar que el seguimiento constante de las personas puede salvarlas"
      ]
    },
    {
      "cell_type": "code",
      "metadata": {
        "colab": {
          "base_uri": "https://localhost:8080/",
          "height": 909
        },
        "id": "edXr_uFDP9Qs",
        "outputId": "e4231f74-4f4f-49b6-9d61-a1d96d934b91"
      },
      "source": [
        "import seaborn as sns\n",
        "import matplotlib.pyplot as plt\n",
        "f,ax=plt.subplots(figsize = (13,13))\n",
        "sns.heatmap(df.corr(),annot=True,linewidths=0.5,fmt=\".1f\",ax=ax)\n",
        "plt.xticks(rotation=90)\n",
        "plt.yticks(rotation=0)\n",
        "plt.title('Mapa de correlacion')\n",
        "plt.savefig('graph.png')\n",
        "plt.show"
      ],
      "execution_count": null,
      "outputs": [
        {
          "output_type": "execute_result",
          "data": {
            "text/plain": [
              "<function matplotlib.pyplot.show>"
            ]
          },
          "metadata": {},
          "execution_count": 26
        },
        {
          "output_type": "display_data",
          "data": {
            "image/png": "[encoded data removed]",
            "text/plain": [
              "<Figure size 936x936 with 2 Axes>"
            ]
          },
          "metadata": {
            "needs_background": "light"
          }
        }
      ]
    },
    {
      "cell_type": "markdown",
      "metadata": {
        "id": "bZi_rkmnRG-L"
      },
      "source": [
        "El mapa de arriba nos permite ver la correlacion entre variables y asi poder tener una mejor selección de que variables queremos estudiar en conjunto."
      ]
    },
    {
      "cell_type": "markdown",
      "metadata": {
        "id": "1RkgAlrq3zhh"
      },
      "source": [
        "**Punto extra**"
      ]
    },
    {
      "cell_type": "markdown",
      "metadata": {
        "id": "N9mHBSV633Pl"
      },
      "source": [
        "El mapa de correlacion que esta en la parte de arriba nos brinda la misma informacion que la funcion corr() solo que una nos deja ver la informacion mas clara ya que con la ayuda de los colores y la mejor sepacion de los datos es mas facil hacer conclusiones sobre nuestra base. "
      ]
    },
    {
      "cell_type": "markdown",
      "metadata": {
        "id": "szoc8JrGUbaX"
      },
      "source": [
        "---\n",
        "**BASE SECUNDARIA**"
      ]
    },
    {
      "cell_type": "markdown",
      "metadata": {
        "id": "qnUIuAy8Uc5N"
      },
      "source": [
        "**Fast Food Restaurants Across America**: https://www.kaggle.com/datafiniti/fast-food-restaurants?select=Datafiniti_Fast_Food_Restaurants.csv"
      ]
    },
    {
      "cell_type": "code",
      "metadata": {
        "id": "4Zzj4PaLVz_x"
      },
      "source": [
        "#a) Importar librerias y base de datos\n",
        "import pandas as pd\n",
        "import numpy as np\n",
        "import json\n",
        "food = pd.read_csv(\"FastFoodRestaurants.csv\")"
      ],
      "execution_count": null,
      "outputs": []
    },
    {
      "cell_type": "markdown",
      "metadata": {
        "id": "rK5uiQd1Xx0u"
      },
      "source": [
        "Aqui introducimos nuestra base de datos que la que trabajaremos"
      ]
    },
    {
      "cell_type": "code",
      "metadata": {
        "colab": {
          "base_uri": "https://localhost:8080/",
          "height": 320
        },
        "id": "bE2KZ9eyWf7n",
        "outputId": "91287f81-21fd-4e20-eb90-e7d99f7ec6b6"
      },
      "source": [
        "food.head(3)"
      ],
      "execution_count": null,
      "outputs": [
        {
          "output_type": "execute_result",
          "data": {
            "text/html": [
              "<div>\n",
              "<style scoped>\n",
              "    .dataframe tbody tr th:only-of-type {\n",
              "        vertical-align: middle;\n",
              "    }\n",
              "\n",
              "    .dataframe tbody tr th {\n",
              "        vertical-align: top;\n",
              "    }\n",
              "\n",
              "    .dataframe thead th {\n",
              "        text-align: right;\n",
              "    }\n",
              "</style>\n",
              "<table border=\"1\" class=\"dataframe\">\n",
              "  <thead>\n",
              "    <tr style=\"text-align: right;\">\n",
              "      <th></th>\n",
              "      <th>id</th>\n",
              "      <th>dateAdded</th>\n",
              "      <th>dateUpdated</th>\n",
              "      <th>address</th>\n",
              "      <th>categories</th>\n",
              "      <th>city</th>\n",
              "      <th>country</th>\n",
              "      <th>keys</th>\n",
              "      <th>latitude</th>\n",
              "      <th>longitude</th>\n",
              "      <th>name</th>\n",
              "      <th>postalCode</th>\n",
              "      <th>province</th>\n",
              "      <th>sourceURLs</th>\n",
              "      <th>websites</th>\n",
              "    </tr>\n",
              "  </thead>\n",
              "  <tbody>\n",
              "    <tr>\n",
              "      <th>0</th>\n",
              "      <td>AVwcmSyZIN2L1WUfmxyw</td>\n",
              "      <td>2015-10-19T23:47:58Z</td>\n",
              "      <td>2018-06-26T03:00:14Z</td>\n",
              "      <td>800 N Canal Blvd</td>\n",
              "      <td>American Restaurant and Fast Food Restaurant</td>\n",
              "      <td>Thibodaux</td>\n",
              "      <td>US</td>\n",
              "      <td>us/la/thibodaux/800ncanalblvd/1780593795</td>\n",
              "      <td>29.814697</td>\n",
              "      <td>-90.814742</td>\n",
              "      <td>SONIC Drive In</td>\n",
              "      <td>70301</td>\n",
              "      <td>LA</td>\n",
              "      <td>https://foursquare.com/v/sonic-drive-in/4b7361...</td>\n",
              "      <td>https://locations.sonicdrivein.com/la/thibodau...</td>\n",
              "    </tr>\n",
              "    <tr>\n",
              "      <th>1</th>\n",
              "      <td>AVwcmSyZIN2L1WUfmxyw</td>\n",
              "      <td>2015-10-19T23:47:58Z</td>\n",
              "      <td>2018-06-26T03:00:14Z</td>\n",
              "      <td>800 N Canal Blvd</td>\n",
              "      <td>Fast Food Restaurants</td>\n",
              "      <td>Thibodaux</td>\n",
              "      <td>US</td>\n",
              "      <td>us/la/thibodaux/800ncanalblvd/1780593795</td>\n",
              "      <td>29.814697</td>\n",
              "      <td>-90.814742</td>\n",
              "      <td>SONIC Drive In</td>\n",
              "      <td>70301</td>\n",
              "      <td>LA</td>\n",
              "      <td>https://foursquare.com/v/sonic-drive-in/4b7361...</td>\n",
              "      <td>https://locations.sonicdrivein.com/la/thibodau...</td>\n",
              "    </tr>\n",
              "    <tr>\n",
              "      <th>2</th>\n",
              "      <td>AVwcopQoByjofQCxgfVa</td>\n",
              "      <td>2016-03-29T05:06:36Z</td>\n",
              "      <td>2018-06-26T02:59:52Z</td>\n",
              "      <td>206 Wears Valley Rd</td>\n",
              "      <td>Fast Food Restaurant</td>\n",
              "      <td>Pigeon Forge</td>\n",
              "      <td>US</td>\n",
              "      <td>us/tn/pigeonforge/206wearsvalleyrd/-864103396</td>\n",
              "      <td>35.803788</td>\n",
              "      <td>-83.580553</td>\n",
              "      <td>Taco Bell</td>\n",
              "      <td>37863</td>\n",
              "      <td>TN</td>\n",
              "      <td>https://www.yellowpages.com/pigeon-forge-tn/mi...</td>\n",
              "      <td>http://www.tacobell.com,https://locations.taco...</td>\n",
              "    </tr>\n",
              "  </tbody>\n",
              "</table>\n",
              "</div>"
            ],
            "text/plain": [
              "                     id  ...                                           websites\n",
              "0  AVwcmSyZIN2L1WUfmxyw  ...  https://locations.sonicdrivein.com/la/thibodau...\n",
              "1  AVwcmSyZIN2L1WUfmxyw  ...  https://locations.sonicdrivein.com/la/thibodau...\n",
              "2  AVwcopQoByjofQCxgfVa  ...  http://www.tacobell.com,https://locations.taco...\n",
              "\n",
              "[3 rows x 15 columns]"
            ]
          },
          "metadata": {},
          "execution_count": 8
        }
      ]
    },
    {
      "cell_type": "code",
      "metadata": {
        "id": "-yEr4n9XpM6_"
      },
      "source": [
        ""
      ],
      "execution_count": null,
      "outputs": []
    },
    {
      "cell_type": "markdown",
      "metadata": {
        "id": "beuAeQpzXkzG"
      },
      "source": [
        "Visualizamos los datos con los que trabajaremos"
      ]
    },
    {
      "cell_type": "markdown",
      "metadata": {
        "id": "eKkof90vX4gW"
      },
      "source": [
        "  **ESTADISTICA BASICA DE LOS DATOS**"
      ]
    },
    {
      "cell_type": "markdown",
      "metadata": {
        "id": "0G6obehEX5T2"
      },
      "source": [
        "* **Funcion sum**"
      ]
    },
    {
      "cell_type": "code",
      "metadata": {
        "colab": {
          "base_uri": "https://localhost:8080/"
        },
        "id": "e9VoM3QfYCJm",
        "outputId": "1c4609e3-9b48-4d1d-efe2-c53f62b0379d"
      },
      "source": [
        "food[\"latitude\"].sum()"
      ],
      "execution_count": null,
      "outputs": [
        {
          "output_type": "execute_result",
          "data": {
            "text/plain": [
              "373374.00442792"
            ]
          },
          "metadata": {},
          "execution_count": 10
        }
      ]
    },
    {
      "cell_type": "code",
      "metadata": {
        "colab": {
          "base_uri": "https://localhost:8080/"
        },
        "id": "J3KI3NsCZHZi",
        "outputId": "4b94981d-52e4-4496-b59f-39672c0c6fe8"
      },
      "source": [
        "food[\"longitude\"].sum()"
      ],
      "execution_count": null,
      "outputs": [
        {
          "output_type": "execute_result",
          "data": {
            "text/plain": [
              "-931065.14604714"
            ]
          },
          "metadata": {},
          "execution_count": 11
        }
      ]
    },
    {
      "cell_type": "markdown",
      "metadata": {
        "id": "npgS5rZAZaEP"
      },
      "source": [
        "sumamos longitudes y latitudes"
      ]
    },
    {
      "cell_type": "markdown",
      "metadata": {
        "id": "twRK59m8ZqV1"
      },
      "source": [
        "* **Funcion mean**"
      ]
    },
    {
      "cell_type": "code",
      "metadata": {
        "colab": {
          "base_uri": "https://localhost:8080/"
        },
        "id": "wTCPeaqIZyTN",
        "outputId": "b0662723-2a6f-438c-c28f-8a3fc371e40a"
      },
      "source": [
        "food['latitude'].mean()"
      ],
      "execution_count": null,
      "outputs": [
        {
          "output_type": "execute_result",
          "data": {
            "text/plain": [
              "37.337400442791925"
            ]
          },
          "metadata": {},
          "execution_count": 12
        }
      ]
    },
    {
      "cell_type": "code",
      "metadata": {
        "colab": {
          "base_uri": "https://localhost:8080/"
        },
        "id": "AnaXhLRAZ6kE",
        "outputId": "b16a4548-3529-4b8f-ab30-5b406df1b149"
      },
      "source": [
        "food['longitude'].mean()"
      ],
      "execution_count": null,
      "outputs": [
        {
          "output_type": "execute_result",
          "data": {
            "text/plain": [
              "-93.1065146047142"
            ]
          },
          "metadata": {},
          "execution_count": 13
        }
      ]
    },
    {
      "cell_type": "markdown",
      "metadata": {
        "id": "3YHzLkUYbSXS"
      },
      "source": [
        "* **Funcion cumsum**"
      ]
    },
    {
      "cell_type": "code",
      "metadata": {
        "colab": {
          "base_uri": "https://localhost:8080/"
        },
        "id": "X40r0IUdbTV9",
        "outputId": "0df12441-f051-4dd6-a855-079407ac52f9"
      },
      "source": [
        "totallongitud=food['longitude'].cumsum()\n",
        "totallongitud"
      ],
      "execution_count": null,
      "outputs": [
        {
          "output_type": "execute_result",
          "data": {
            "text/plain": [
              "0          -90.814742\n",
              "1         -181.629484\n",
              "2         -265.210037\n",
              "3         -348.761445\n",
              "4         -433.082588\n",
              "            ...      \n",
              "9995   -930748.309724\n",
              "9996   -930828.486472\n",
              "9997   -930908.575637\n",
              "9998   -930986.521432\n",
              "9999   -931065.146047\n",
              "Name: longitude, Length: 10000, dtype: float64"
            ]
          },
          "metadata": {},
          "execution_count": 14
        }
      ]
    },
    {
      "cell_type": "code",
      "metadata": {
        "colab": {
          "base_uri": "https://localhost:8080/"
        },
        "id": "rZ3FNA_xbxGV",
        "outputId": "9c23561c-f0d9-42b6-bf3c-952d677b5ffb"
      },
      "source": [
        "totallongitud[9999]"
      ],
      "execution_count": null,
      "outputs": [
        {
          "output_type": "execute_result",
          "data": {
            "text/plain": [
              "-931065.1460471421"
            ]
          },
          "metadata": {},
          "execution_count": 15
        }
      ]
    },
    {
      "cell_type": "markdown",
      "metadata": {
        "id": "pTUGxl3lb3k1"
      },
      "source": [
        "* **Funcion describe**"
      ]
    },
    {
      "cell_type": "code",
      "metadata": {
        "colab": {
          "base_uri": "https://localhost:8080/"
        },
        "id": "FhGEnuNMcmCL",
        "outputId": "90f598a1-78a0-4553-90fe-858c1862d97f"
      },
      "source": [
        "food['latitude'].describe()"
      ],
      "execution_count": null,
      "outputs": [
        {
          "output_type": "execute_result",
          "data": {
            "text/plain": [
              "count    10000.000000\n",
              "mean        37.337400\n",
              "std          5.100276\n",
              "min         19.504168\n",
              "25%         33.773973\n",
              "50%         37.706263\n",
              "75%         41.140722\n",
              "max         64.840240\n",
              "Name: latitude, dtype: float64"
            ]
          },
          "metadata": {},
          "execution_count": 16
        }
      ]
    },
    {
      "cell_type": "markdown",
      "metadata": {
        "id": "uP1_0oWpcqkn"
      },
      "source": [
        "Esta funcion nos da un resumen estadistico de nuestra columna"
      ]
    },
    {
      "cell_type": "markdown",
      "metadata": {
        "id": "k0QGvxJdcxBt"
      },
      "source": [
        "* **Funcion count**"
      ]
    },
    {
      "cell_type": "code",
      "metadata": {
        "colab": {
          "base_uri": "https://localhost:8080/"
        },
        "id": "jfuY65jLc16-",
        "outputId": "4df1ab66-2b53-41fe-f9d0-2fe74f11ef22"
      },
      "source": [
        "food.count()"
      ],
      "execution_count": null,
      "outputs": [
        {
          "output_type": "execute_result",
          "data": {
            "text/plain": [
              "id             10000\n",
              "dateAdded      10000\n",
              "dateUpdated    10000\n",
              "address        10000\n",
              "categories     10000\n",
              "city           10000\n",
              "country        10000\n",
              "keys           10000\n",
              "latitude       10000\n",
              "longitude      10000\n",
              "name           10000\n",
              "postalCode     10000\n",
              "province       10000\n",
              "sourceURLs     10000\n",
              "websites       10000\n",
              "dtype: int64"
            ]
          },
          "metadata": {},
          "execution_count": 17
        }
      ]
    },
    {
      "cell_type": "markdown",
      "metadata": {
        "id": "63F1U5QGdBFH"
      },
      "source": [
        "Esta funcion nos ayuda a saber cuantos elementos no nulos hay en nuestras columnas, como podemos observar nuestra base esta completa, es decir no falta ningun dato, todos los datos que tenemos son NO nulos."
      ]
    },
    {
      "cell_type": "markdown",
      "metadata": {
        "id": "15Mf4PmJdBu0"
      },
      "source": [
        "* **Funcion min y max**"
      ]
    },
    {
      "cell_type": "code",
      "metadata": {
        "colab": {
          "base_uri": "https://localhost:8080/"
        },
        "id": "eiRiNfK1dFvo",
        "outputId": "9db15eec-219d-4135-b7d2-0a0c38f5198c"
      },
      "source": [
        "food['latitude'].min()"
      ],
      "execution_count": null,
      "outputs": [
        {
          "output_type": "execute_result",
          "data": {
            "text/plain": [
              "19.504168"
            ]
          },
          "metadata": {},
          "execution_count": 18
        }
      ]
    },
    {
      "cell_type": "markdown",
      "metadata": {
        "id": "nB_LU-igdSWU"
      },
      "source": [
        "La menor latitude encontrada fue de 19.504168"
      ]
    },
    {
      "cell_type": "code",
      "metadata": {
        "colab": {
          "base_uri": "https://localhost:8080/"
        },
        "id": "So94aBxbdaBt",
        "outputId": "186a37cb-f001-497b-9237-5729d144db67"
      },
      "source": [
        "food['latitude'].max()"
      ],
      "execution_count": null,
      "outputs": [
        {
          "output_type": "execute_result",
          "data": {
            "text/plain": [
              "64.84024000000001"
            ]
          },
          "metadata": {},
          "execution_count": 19
        }
      ]
    },
    {
      "cell_type": "markdown",
      "metadata": {
        "id": "qFN6aUzMde2L"
      },
      "source": [
        "La mayor latitude encontrada fue de 64.84024000000001"
      ]
    },
    {
      "cell_type": "markdown",
      "metadata": {
        "id": "GU9-vNnxdlPe"
      },
      "source": [
        "* **Funciones median, var y std**"
      ]
    },
    {
      "cell_type": "code",
      "metadata": {
        "colab": {
          "base_uri": "https://localhost:8080/"
        },
        "id": "M9Axb_Xedo-B",
        "outputId": "f06ed686-446c-4747-c7c0-2673df29f4ab"
      },
      "source": [
        "food['longitude'].median()"
      ],
      "execution_count": null,
      "outputs": [
        {
          "output_type": "execute_result",
          "data": {
            "text/plain": [
              "-87.95114850000002"
            ]
          },
          "metadata": {},
          "execution_count": 20
        }
      ]
    },
    {
      "cell_type": "code",
      "metadata": {
        "colab": {
          "base_uri": "https://localhost:8080/"
        },
        "id": "nwK-dmu_dvDG",
        "outputId": "293574e6-2933-43b2-f74b-f14c77a2584d"
      },
      "source": [
        "food['longitude'].var()"
      ],
      "execution_count": null,
      "outputs": [
        {
          "output_type": "execute_result",
          "data": {
            "text/plain": [
              "249.2487408844035"
            ]
          },
          "metadata": {},
          "execution_count": 21
        }
      ]
    },
    {
      "cell_type": "code",
      "metadata": {
        "colab": {
          "base_uri": "https://localhost:8080/"
        },
        "id": "ruWcBg8ZdxWo",
        "outputId": "edb2baef-71db-47fc-992e-dc80f523b59d"
      },
      "source": [
        "food['longitude'].std()"
      ],
      "execution_count": null,
      "outputs": [
        {
          "output_type": "execute_result",
          "data": {
            "text/plain": [
              "15.787613527205545"
            ]
          },
          "metadata": {},
          "execution_count": 22
        }
      ]
    },
    {
      "cell_type": "markdown",
      "metadata": {
        "id": "BkKQWEPQdzhe"
      },
      "source": [
        "Estas tres funciones nos ayudan a obtener la media, la varianza y la desviacion estandar respectivamente de alguna columna."
      ]
    },
    {
      "cell_type": "markdown",
      "metadata": {
        "id": "kvWAbVycd31j"
      },
      "source": [
        "* **Funcion skew**"
      ]
    },
    {
      "cell_type": "code",
      "metadata": {
        "colab": {
          "base_uri": "https://localhost:8080/"
        },
        "id": "jYIrccqdd_2y",
        "outputId": "51d0355f-d81c-4c00-ca2b-fde587d43c29"
      },
      "source": [
        "food['latitude'].skew()"
      ],
      "execution_count": null,
      "outputs": [
        {
          "output_type": "execute_result",
          "data": {
            "text/plain": [
              "-0.06668985930590735"
            ]
          },
          "metadata": {},
          "execution_count": 23
        }
      ]
    },
    {
      "cell_type": "markdown",
      "metadata": {
        "id": "F9Wic1ZWd7lf"
      },
      "source": [
        "Valor de asimetria en los datos de la columna latitud"
      ]
    },
    {
      "cell_type": "markdown",
      "metadata": {
        "id": "4lQvTNLTeJ7g"
      },
      "source": [
        "* **Funcion kurt**"
      ]
    },
    {
      "cell_type": "code",
      "metadata": {
        "colab": {
          "base_uri": "https://localhost:8080/"
        },
        "id": "uR2h-7oIeN86",
        "outputId": "15ff044d-6f0a-4f8e-8410-cb46b05557d8"
      },
      "source": [
        "food['longitude'].kurt()"
      ],
      "execution_count": null,
      "outputs": [
        {
          "output_type": "execute_result",
          "data": {
            "text/plain": [
              "-0.0019092143518832927"
            ]
          },
          "metadata": {},
          "execution_count": 24
        }
      ]
    },
    {
      "cell_type": "markdown",
      "metadata": {
        "id": "yFpkgKZFeTEX"
      },
      "source": [
        "Caracteristica de forma de su distribucion de frecuencia/ probabilidad de la columna longitud"
      ]
    },
    {
      "cell_type": "markdown",
      "metadata": {
        "id": "ykFRe_B9eafu"
      },
      "source": [
        "* **Funcion corr**"
      ]
    },
    {
      "cell_type": "code",
      "metadata": {
        "colab": {
          "base_uri": "https://localhost:8080/",
          "height": 112
        },
        "id": "Ou34OdWfejJX",
        "outputId": "238cb891-f589-459f-c136-753e2ec9ec76"
      },
      "source": [
        "food.corr()"
      ],
      "execution_count": null,
      "outputs": [
        {
          "output_type": "execute_result",
          "data": {
            "text/html": [
              "<div>\n",
              "<style scoped>\n",
              "    .dataframe tbody tr th:only-of-type {\n",
              "        vertical-align: middle;\n",
              "    }\n",
              "\n",
              "    .dataframe tbody tr th {\n",
              "        vertical-align: top;\n",
              "    }\n",
              "\n",
              "    .dataframe thead th {\n",
              "        text-align: right;\n",
              "    }\n",
              "</style>\n",
              "<table border=\"1\" class=\"dataframe\">\n",
              "  <thead>\n",
              "    <tr style=\"text-align: right;\">\n",
              "      <th></th>\n",
              "      <th>latitude</th>\n",
              "      <th>longitude</th>\n",
              "    </tr>\n",
              "  </thead>\n",
              "  <tbody>\n",
              "    <tr>\n",
              "      <th>latitude</th>\n",
              "      <td>1.000000</td>\n",
              "      <td>0.071574</td>\n",
              "    </tr>\n",
              "    <tr>\n",
              "      <th>longitude</th>\n",
              "      <td>0.071574</td>\n",
              "      <td>1.000000</td>\n",
              "    </tr>\n",
              "  </tbody>\n",
              "</table>\n",
              "</div>"
            ],
            "text/plain": [
              "           latitude  longitude\n",
              "latitude   1.000000   0.071574\n",
              "longitude  0.071574   1.000000"
            ]
          },
          "metadata": {},
          "execution_count": 25
        }
      ]
    },
    {
      "cell_type": "markdown",
      "metadata": {
        "id": "BahtsE5ce-Ij"
      },
      "source": [
        "Esta funcion nos ayuda a saber que tan correlacionados estan nuestros datos de todas las columnas posibles."
      ]
    },
    {
      "cell_type": "markdown",
      "metadata": {
        "id": "jVS5-GF-fA_-"
      },
      "source": [
        "* **Funcion cov**"
      ]
    },
    {
      "cell_type": "code",
      "metadata": {
        "colab": {
          "base_uri": "https://localhost:8080/",
          "height": 112
        },
        "id": "-HHp3z7AfHrQ",
        "outputId": "ef9bf0c4-433e-4fba-9857-3aaf75900769"
      },
      "source": [
        "food.cov()"
      ],
      "execution_count": null,
      "outputs": [
        {
          "output_type": "execute_result",
          "data": {
            "text/html": [
              "<div>\n",
              "<style scoped>\n",
              "    .dataframe tbody tr th:only-of-type {\n",
              "        vertical-align: middle;\n",
              "    }\n",
              "\n",
              "    .dataframe tbody tr th {\n",
              "        vertical-align: top;\n",
              "    }\n",
              "\n",
              "    .dataframe thead th {\n",
              "        text-align: right;\n",
              "    }\n",
              "</style>\n",
              "<table border=\"1\" class=\"dataframe\">\n",
              "  <thead>\n",
              "    <tr style=\"text-align: right;\">\n",
              "      <th></th>\n",
              "      <th>latitude</th>\n",
              "      <th>longitude</th>\n",
              "    </tr>\n",
              "  </thead>\n",
              "  <tbody>\n",
              "    <tr>\n",
              "      <th>latitude</th>\n",
              "      <td>26.012817</td>\n",
              "      <td>5.763188</td>\n",
              "    </tr>\n",
              "    <tr>\n",
              "      <th>longitude</th>\n",
              "      <td>5.763188</td>\n",
              "      <td>249.248741</td>\n",
              "    </tr>\n",
              "  </tbody>\n",
              "</table>\n",
              "</div>"
            ],
            "text/plain": [
              "            latitude   longitude\n",
              "latitude   26.012817    5.763188\n",
              "longitude   5.763188  249.248741"
            ]
          },
          "metadata": {},
          "execution_count": 26
        }
      ]
    },
    {
      "cell_type": "markdown",
      "metadata": {
        "id": "ROTr2fNzfPAL"
      },
      "source": [
        "Esta funcion nos ayuda a saber la covarianza de los datos de todas las columnas posibles."
      ]
    },
    {
      "cell_type": "markdown",
      "metadata": {
        "id": "iVos7V0pfR0q"
      },
      "source": [
        "  **GRAFICAS**"
      ]
    },
    {
      "cell_type": "code",
      "metadata": {
        "id": "mFeUx8cR8nKw"
      },
      "source": [
        "import pandas as pd\n",
        "import matplotlib as plt\n",
        "%matplotlib inline"
      ],
      "execution_count": null,
      "outputs": []
    },
    {
      "cell_type": "code",
      "metadata": {
        "colab": {
          "base_uri": "https://localhost:8080/",
          "height": 196
        },
        "id": "ll069Grf819g",
        "outputId": "83d9e63a-0313-4dda-e75f-79bd06b38a6d"
      },
      "source": [
        "food.head(3)"
      ],
      "execution_count": null,
      "outputs": [
        {
          "output_type": "execute_result",
          "data": {
            "text/html": [
              "<div>\n",
              "<style scoped>\n",
              "    .dataframe tbody tr th:only-of-type {\n",
              "        vertical-align: middle;\n",
              "    }\n",
              "\n",
              "    .dataframe tbody tr th {\n",
              "        vertical-align: top;\n",
              "    }\n",
              "\n",
              "    .dataframe thead th {\n",
              "        text-align: right;\n",
              "    }\n",
              "</style>\n",
              "<table border=\"1\" class=\"dataframe\">\n",
              "  <thead>\n",
              "    <tr style=\"text-align: right;\">\n",
              "      <th></th>\n",
              "      <th>address</th>\n",
              "      <th>city</th>\n",
              "      <th>country</th>\n",
              "      <th>keys</th>\n",
              "      <th>latitude</th>\n",
              "      <th>longitude</th>\n",
              "      <th>name</th>\n",
              "      <th>postalCode</th>\n",
              "      <th>province</th>\n",
              "      <th>websites</th>\n",
              "    </tr>\n",
              "  </thead>\n",
              "  <tbody>\n",
              "    <tr>\n",
              "      <th>0</th>\n",
              "      <td>324 Main St</td>\n",
              "      <td>Massena</td>\n",
              "      <td>US</td>\n",
              "      <td>us/ny/massena/324mainst/-1161002137</td>\n",
              "      <td>44.92130</td>\n",
              "      <td>-74.89021</td>\n",
              "      <td>McDonald's</td>\n",
              "      <td>13662</td>\n",
              "      <td>NY</td>\n",
              "      <td>http://mcdonalds.com,http://www.mcdonalds.com/...</td>\n",
              "    </tr>\n",
              "    <tr>\n",
              "      <th>1</th>\n",
              "      <td>530 Clinton Ave</td>\n",
              "      <td>Washington Court House</td>\n",
              "      <td>US</td>\n",
              "      <td>us/oh/washingtoncourthouse/530clintonave/-7914...</td>\n",
              "      <td>39.53255</td>\n",
              "      <td>-83.44526</td>\n",
              "      <td>Wendy's</td>\n",
              "      <td>43160</td>\n",
              "      <td>OH</td>\n",
              "      <td>http://www.wendys.com</td>\n",
              "    </tr>\n",
              "    <tr>\n",
              "      <th>2</th>\n",
              "      <td>408 Market Square Dr</td>\n",
              "      <td>Maysville</td>\n",
              "      <td>US</td>\n",
              "      <td>us/ky/maysville/408marketsquaredr/1051460804</td>\n",
              "      <td>38.62736</td>\n",
              "      <td>-83.79141</td>\n",
              "      <td>Frisch's Big Boy</td>\n",
              "      <td>41056</td>\n",
              "      <td>KY</td>\n",
              "      <td>http://www.frischs.com,https://www.frischs.com...</td>\n",
              "    </tr>\n",
              "  </tbody>\n",
              "</table>\n",
              "</div>"
            ],
            "text/plain": [
              "                address  ...                                           websites\n",
              "0           324 Main St  ...  http://mcdonalds.com,http://www.mcdonalds.com/...\n",
              "1       530 Clinton Ave  ...                              http://www.wendys.com\n",
              "2  408 Market Square Dr  ...  http://www.frischs.com,https://www.frischs.com...\n",
              "\n",
              "[3 rows x 10 columns]"
            ]
          },
          "metadata": {},
          "execution_count": 3
        }
      ]
    },
    {
      "cell_type": "code",
      "metadata": {
        "colab": {
          "base_uri": "https://localhost:8080/"
        },
        "id": "DBsEutBU84h1",
        "outputId": "c393fde6-6a53-489c-c610-966a94256ba9"
      },
      "source": [
        "food.columns"
      ],
      "execution_count": null,
      "outputs": [
        {
          "output_type": "execute_result",
          "data": {
            "text/plain": [
              "Index(['address', 'city', 'country', 'keys', 'latitude', 'longitude', 'name',\n",
              "       'postalCode', 'province', 'websites'],\n",
              "      dtype='object')"
            ]
          },
          "metadata": {},
          "execution_count": 4
        }
      ]
    },
    {
      "cell_type": "markdown",
      "metadata": {
        "id": "6NolSesv8_9M"
      },
      "source": [
        "*   **Grafica de barras y datos categoricos**\n",
        "\n",
        "\n"
      ]
    },
    {
      "cell_type": "code",
      "metadata": {
        "colab": {
          "base_uri": "https://localhost:8080/",
          "height": 348
        },
        "id": "nM6X1AFV9JN0",
        "outputId": "9c3c33f0-713a-4504-8a6b-14fc1cb0b5cc"
      },
      "source": [
        "food['name'].value_counts().head(10).plot.bar()"
      ],
      "execution_count": null,
      "outputs": [
        {
          "output_type": "execute_result",
          "data": {
            "text/plain": [
              "<matplotlib.axes._subplots.AxesSubplot at 0x7f720e00de50>"
            ]
          },
          "metadata": {},
          "execution_count": 6
        },
        {
          "output_type": "display_data",
          "data": {
            "image/png": "[encoded data removed]",
            "text/plain": [
              "<Figure size 432x288 with 1 Axes>"
            ]
          },
          "metadata": {
            "needs_background": "light"
          }
        }
      ]
    },
    {
      "cell_type": "markdown",
      "metadata": {
        "id": "LMXD1NQW-C9q"
      },
      "source": [
        "La grafica de arriba nos muestra la cantidad de sucursales, que tiene cada franquicia, a lo largo de estados unidos."
      ]
    },
    {
      "cell_type": "code",
      "metadata": {
        "colab": {
          "base_uri": "https://localhost:8080/",
          "height": 348
        },
        "id": "nw9LPKy5-_e4",
        "outputId": "079ed392-dc18-462d-f14b-83e7b289d459"
      },
      "source": [
        "(food['name'].value_counts().head(10)/len(food)).plot.bar()"
      ],
      "execution_count": null,
      "outputs": [
        {
          "output_type": "execute_result",
          "data": {
            "text/plain": [
              "<matplotlib.axes._subplots.AxesSubplot at 0x7f720e1e0750>"
            ]
          },
          "metadata": {},
          "execution_count": 7
        },
        {
          "output_type": "display_data",
          "data": {
            "image/png": "[encoded data removed]",
            "text/plain": [
              "<Figure size 432x288 with 1 Axes>"
            ]
          },
          "metadata": {
            "needs_background": "light"
          }
        }
      ]
    },
    {
      "cell_type": "markdown",
      "metadata": {
        "id": "39HvLZJV_I4U"
      },
      "source": [
        "Los datos quedarían mejor en proporción, debido a que la base de datos no está completa, por lo que no muestra la cantidad total."
      ]
    },
    {
      "cell_type": "code",
      "metadata": {
        "colab": {
          "base_uri": "https://localhost:8080/",
          "height": 291
        },
        "id": "vlyYxNfV_ZkB",
        "outputId": "76efc8d9-73b6-458f-ac00-5e2554798c5c"
      },
      "source": [
        "food['province'].value_counts().head(10).plot.bar()"
      ],
      "execution_count": null,
      "outputs": [
        {
          "output_type": "execute_result",
          "data": {
            "text/plain": [
              "<matplotlib.axes._subplots.AxesSubplot at 0x7f720aca8e90>"
            ]
          },
          "metadata": {},
          "execution_count": 8
        },
        {
          "output_type": "display_data",
          "data": {
            "image/png": "[encoded data removed]",
            "text/plain": [
              "<Figure size 432x288 with 1 Axes>"
            ]
          },
          "metadata": {
            "needs_background": "light"
          }
        }
      ]
    },
    {
      "cell_type": "markdown",
      "metadata": {
        "id": "065X0jf-_wuS"
      },
      "source": [
        "También podemos usar este tipo de grafica para ver en que estados hay mayor cantidad de franquicias."
      ]
    },
    {
      "cell_type": "markdown",
      "metadata": {
        "id": "URRI7zkx_31f"
      },
      "source": [
        "*   **Grafica de lineas**"
      ]
    },
    {
      "cell_type": "code",
      "metadata": {
        "colab": {
          "base_uri": "https://localhost:8080/",
          "height": 283
        },
        "id": "76eHZfoF_2rN",
        "outputId": "4c6ed2ad-2995-441e-fb0a-605b56dde1fe"
      },
      "source": [
        "food['name'].value_counts().head(5).plot.line()"
      ],
      "execution_count": null,
      "outputs": [
        {
          "output_type": "execute_result",
          "data": {
            "text/plain": [
              "<matplotlib.axes._subplots.AxesSubplot at 0x7f720ab1d290>"
            ]
          },
          "metadata": {},
          "execution_count": 11
        },
        {
          "output_type": "display_data",
          "data": {
            "image/png": "[encoded data removed]",
            "text/plain": [
              "<Figure size 432x288 with 1 Axes>"
            ]
          },
          "metadata": {
            "needs_background": "light"
          }
        }
      ]
    },
    {
      "cell_type": "markdown",
      "metadata": {
        "id": "D891LWpWAd01"
      },
      "source": [
        "Al realizar este tipo de graficos tenemos problemas. Estos si se pueden realizar, pero no vendrian siendo muy eficaces, por la falta de datos numericos. Al ocultar los valores de X (las franquicias) nos dificulta el hecho de saber que franquicia es la que tiene esa cantidad de sucursales."
      ]
    },
    {
      "cell_type": "markdown",
      "metadata": {
        "id": "SyH-PZLhBJtH"
      },
      "source": [
        "*   **Histogramas**"
      ]
    },
    {
      "cell_type": "code",
      "metadata": {
        "colab": {
          "base_uri": "https://localhost:8080/",
          "height": 283
        },
        "id": "srcjqqZmCNcU",
        "outputId": "a7568c1f-fabd-42e8-e216-f8b82d46ce55"
      },
      "source": [
        "food['latitude'].plot.hist()"
      ],
      "execution_count": null,
      "outputs": [
        {
          "output_type": "execute_result",
          "data": {
            "text/plain": [
              "<matplotlib.axes._subplots.AxesSubplot at 0x7f720a998450>"
            ]
          },
          "metadata": {},
          "execution_count": 14
        },
        {
          "output_type": "display_data",
          "data": {
            "image/png": "[encoded data removed]",
            "text/plain": [
              "<Figure size 432x288 with 1 Axes>"
            ]
          },
          "metadata": {
            "needs_background": "light"
          }
        }
      ]
    },
    {
      "cell_type": "code",
      "metadata": {
        "colab": {
          "base_uri": "https://localhost:8080/",
          "height": 283
        },
        "id": "j45I2aGDCYWv",
        "outputId": "5b437c8c-e5f7-4a35-d2d1-037a313dcc49"
      },
      "source": [
        "food['longitude'].plot.hist()"
      ],
      "execution_count": null,
      "outputs": [
        {
          "output_type": "execute_result",
          "data": {
            "text/plain": [
              "<matplotlib.axes._subplots.AxesSubplot at 0x7f720a929750>"
            ]
          },
          "metadata": {},
          "execution_count": 15
        },
        {
          "output_type": "display_data",
          "data": {
            "image/png": "[encoded data removed]",
            "text/plain": [
              "<Figure size 432x288 with 1 Axes>"
            ]
          },
          "metadata": {
            "needs_background": "light"
          }
        }
      ]
    },
    {
      "cell_type": "markdown",
      "metadata": {
        "id": "Ut4ER3MxCgp-"
      },
      "source": [
        "Las graficas de arriba nos ayudan a saber en que partes de estados unidos hay una mayor densidad de restaurantes de comida rapida."
      ]
    },
    {
      "cell_type": "markdown",
      "metadata": {
        "id": "joAMmDGuCuZi"
      },
      "source": [
        "*   **Graficar datos bi-variantes**"
      ]
    },
    {
      "cell_type": "code",
      "metadata": {
        "colab": {
          "base_uri": "https://localhost:8080/",
          "height": 297
        },
        "id": "M1ZIaBUKD-4z",
        "outputId": "05cba9b0-d12f-4ad4-d155-b073e5fef18b"
      },
      "source": [
        "food.sample(100).plot.scatter(x='longitude',y='latitude')"
      ],
      "execution_count": null,
      "outputs": [
        {
          "output_type": "execute_result",
          "data": {
            "text/plain": [
              "<matplotlib.axes._subplots.AxesSubplot at 0x7f71f8e018d0>"
            ]
          },
          "metadata": {},
          "execution_count": 28
        },
        {
          "output_type": "display_data",
          "data": {
            "image/png": "[encoded data removed]",
            "text/plain": [
              "<Figure size 432x288 with 1 Axes>"
            ]
          },
          "metadata": {
            "needs_background": "light"
          }
        }
      ]
    },
    {
      "cell_type": "markdown",
      "metadata": {
        "id": "IJIMcpmAFpx-"
      },
      "source": [
        "Con los histogramas podiamos saber donde se encontraba la mayor densidad de restaurantes a lo alto y lo ancho; con la grafica de datos bi-variantes podemos tener una mejor idea de la posicion exacta."
      ]
    },
    {
      "cell_type": "code",
      "metadata": {
        "colab": {
          "base_uri": "https://localhost:8080/",
          "height": 272
        },
        "id": "AGXPpY_kGDfv",
        "outputId": "3553e573-7a24-467f-8d6e-707a7fa771b6"
      },
      "source": [
        "food.plot.hexbin(x='longitude',y='latitude',gridsize=15)"
      ],
      "execution_count": null,
      "outputs": [
        {
          "output_type": "execute_result",
          "data": {
            "text/plain": [
              "<matplotlib.axes._subplots.AxesSubplot at 0x7f71fbad5690>"
            ]
          },
          "metadata": {},
          "execution_count": 27
        },
        {
          "output_type": "display_data",
          "data": {
            "image/png": "[encoded data removed]",
            "text/plain": [
              "<Figure size 432x288 with 2 Axes>"
            ]
          },
          "metadata": {
            "needs_background": "light"
          }
        }
      ]
    },
    {
      "cell_type": "markdown",
      "metadata": {
        "id": "0ttLs_saGsPE"
      },
      "source": [
        "La grafica de hexplots es mas util en este caso, ya que como contamos con aproximadamente 10,000 datos, este mapeo nos permite tomar en cuenta todos los datos."
      ]
    },
    {
      "cell_type": "markdown",
      "metadata": {
        "id": "Qmvdhms7SiOF"
      },
      "source": [
        "*   **Stacked Plots**"
      ]
    },
    {
      "cell_type": "code",
      "metadata": {
        "colab": {
          "base_uri": "https://localhost:8080/",
          "height": 238
        },
        "id": "iZXBwXoknmFY",
        "outputId": "b45ba58f-5d97-43c5-ad4a-774c3b24346b"
      },
      "source": [
        "nt2 = pd.read_csv(\"datos_restaurantes.csv\")\n",
        "nt2.set_index('Restaurante',inplace=True)\n",
        "nt2"
      ],
      "execution_count": null,
      "outputs": [
        {
          "output_type": "execute_result",
          "data": {
            "text/html": [
              "<div>\n",
              "<style scoped>\n",
              "    .dataframe tbody tr th:only-of-type {\n",
              "        vertical-align: middle;\n",
              "    }\n",
              "\n",
              "    .dataframe tbody tr th {\n",
              "        vertical-align: top;\n",
              "    }\n",
              "\n",
              "    .dataframe thead th {\n",
              "        text-align: right;\n",
              "    }\n",
              "</style>\n",
              "<table border=\"1\" class=\"dataframe\">\n",
              "  <thead>\n",
              "    <tr style=\"text-align: right;\">\n",
              "      <th></th>\n",
              "      <th>NY</th>\n",
              "      <th>TX</th>\n",
              "      <th>CA</th>\n",
              "      <th>FL</th>\n",
              "    </tr>\n",
              "    <tr>\n",
              "      <th>Restaurante</th>\n",
              "      <th></th>\n",
              "      <th></th>\n",
              "      <th></th>\n",
              "      <th></th>\n",
              "    </tr>\n",
              "  </thead>\n",
              "  <tbody>\n",
              "    <tr>\n",
              "      <th>McDonalds's</th>\n",
              "      <td>68</td>\n",
              "      <td>154</td>\n",
              "      <td>126</td>\n",
              "      <td>85</td>\n",
              "    </tr>\n",
              "    <tr>\n",
              "      <th>Wendy's</th>\n",
              "      <td>15</td>\n",
              "      <td>26</td>\n",
              "      <td>26</td>\n",
              "      <td>35</td>\n",
              "    </tr>\n",
              "    <tr>\n",
              "      <th>Taco Bell</th>\n",
              "      <td>23</td>\n",
              "      <td>63</td>\n",
              "      <td>70</td>\n",
              "      <td>24</td>\n",
              "    </tr>\n",
              "    <tr>\n",
              "      <th>SONIC Drive In</th>\n",
              "      <td>0</td>\n",
              "      <td>24</td>\n",
              "      <td>1</td>\n",
              "      <td>0</td>\n",
              "    </tr>\n",
              "    <tr>\n",
              "      <th>Subway</th>\n",
              "      <td>18</td>\n",
              "      <td>17</td>\n",
              "      <td>35</td>\n",
              "      <td>19</td>\n",
              "    </tr>\n",
              "  </tbody>\n",
              "</table>\n",
              "</div>"
            ],
            "text/plain": [
              "                NY   TX   CA  FL\n",
              "Restaurante                     \n",
              "McDonalds's     68  154  126  85\n",
              "Wendy's         15   26   26  35\n",
              "Taco Bell       23   63   70  24\n",
              "SONIC Drive In   0   24    1   0\n",
              "Subway          18   17   35  19"
            ]
          },
          "metadata": {},
          "execution_count": 39
        }
      ]
    },
    {
      "cell_type": "code",
      "metadata": {
        "colab": {
          "base_uri": "https://localhost:8080/",
          "height": 361
        },
        "id": "mAfuR6tdn5Gw",
        "outputId": "d6de7a3e-a1a9-4fe1-f62c-20d5d05829c3"
      },
      "source": [
        "nt2.plot.bar(stacked=True)"
      ],
      "execution_count": null,
      "outputs": [
        {
          "output_type": "execute_result",
          "data": {
            "text/plain": [
              "<matplotlib.axes._subplots.AxesSubplot at 0x7f620f8b6690>"
            ]
          },
          "metadata": {},
          "execution_count": 40
        },
        {
          "output_type": "display_data",
          "data": {
            "image/png": "[encoded data removed]",
            "text/plain": [
              "<Figure size 432x288 with 1 Axes>"
            ]
          },
          "metadata": {
            "needs_background": "light"
          }
        }
      ]
    },
    {
      "cell_type": "markdown",
      "metadata": {
        "id": "FdSd7oQPoCYP"
      },
      "source": [
        "En la tabla de arriba tenemos los estados mas densos y los restaurantes mas populares. Lo que la tabla nos muestra es la cantidad de x restaurante en y estado."
      ]
    },
    {
      "cell_type": "markdown",
      "metadata": {
        "id": "US27F0W3SlEn"
      },
      "source": [
        "*   **Box Plots**"
      ]
    },
    {
      "cell_type": "code",
      "metadata": {
        "colab": {
          "base_uri": "https://localhost:8080/",
          "height": 297
        },
        "id": "CaAyKzgZTAAH",
        "outputId": "a2fb9233-5f87-40e7-f87c-7cd4d3d0a4b7"
      },
      "source": [
        "import seaborn as sns\n",
        "df = food[food.longitude.isin(food.longitude.head(5).value_counts().index)]\n",
        "\n",
        "sns.boxplot(x='longitude',y='latitude',data=df)"
      ],
      "execution_count": null,
      "outputs": [
        {
          "output_type": "execute_result",
          "data": {
            "text/plain": [
              "<matplotlib.axes._subplots.AxesSubplot at 0x7f71fb83df90>"
            ]
          },
          "metadata": {},
          "execution_count": 30
        },
        {
          "output_type": "display_data",
          "data": {
            "image/png": "[encoded data removed]",
            "text/plain": [
              "<Figure size 432x288 with 1 Axes>"
            ]
          },
          "metadata": {
            "needs_background": "light"
          }
        }
      ]
    },
    {
      "cell_type": "markdown",
      "metadata": {
        "id": "BgNPsHw2T_pN"
      },
      "source": [
        "Por la naturaleza de la base de datos, no es posible realizar boxplots o violinplots adecuados. "
      ]
    },
    {
      "cell_type": "markdown",
      "metadata": {
        "id": "KBbVcrD-SwMX"
      },
      "source": [
        "*   **Graficas multi variantes**"
      ]
    },
    {
      "cell_type": "markdown",
      "metadata": {
        "id": "CDMjl5PmrLkA"
      },
      "source": [
        "Debido a la naturaleza de las variables no es muy útil el uso de gráficas multivariantes."
      ]
    },
    {
      "cell_type": "code",
      "metadata": {
        "colab": {
          "base_uri": "https://localhost:8080/",
          "height": 935
        },
        "id": "-GDZgQGUUPtE",
        "outputId": "1eca1173-ddc9-4e7a-f88a-f8871c975a7b"
      },
      "source": [
        "import matplotlib.pyplot as plt\n",
        "f,ax=plt.subplots(figsize = (15,15))\n",
        "sns.heatmap(df.corr(),annot=True,linewidths=0.5,fmt=\".1f\",ax=ax)\n",
        "plt.xticks(rotation=90)\n",
        "plt.yticks(rotation=0)\n",
        "plt.title('Mapa de correlacion')\n",
        "plt.savefig('graph.png')\n",
        "plt.show"
      ],
      "execution_count": null,
      "outputs": [
        {
          "output_type": "execute_result",
          "data": {
            "text/plain": [
              "<function matplotlib.pyplot.show>"
            ]
          },
          "metadata": {},
          "execution_count": 31
        },
        {
          "output_type": "display_data",
          "data": {
            "image/png": "[encoded data removed]",
            "text/plain": [
              "<Figure size 1080x1080 with 2 Axes>"
            ]
          },
          "metadata": {
            "needs_background": "light"
          }
        }
      ]
    }
  ]
}