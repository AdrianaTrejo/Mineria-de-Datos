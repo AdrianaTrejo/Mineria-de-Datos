{
  "nbformat": 4,
  "nbformat_minor": 0,
  "metadata": {
    "colab": {
      "name": "Ej_Python_1853256.ipynb",
      "provenance": [],
      "collapsed_sections": [],
      "authorship_tag": "ABX9TyPSOfT1q6RqWWLz4rBXvgEH",
      "include_colab_link": true
    },
    "kernelspec": {
      "name": "python3",
      "display_name": "Python 3"
    },
    "language_info": {
      "name": "python"
    }
  },
  "cells": [
    {
      "cell_type": "markdown",
      "metadata": {
        "id": "view-in-github",
        "colab_type": "text"
      },
      "source": [
        "<a href=\"https://colab.research.google.com/github/AdrianaTrejo/Mineria-de-Datos/blob/main/Ej_Python_1853256.ipynb\" target=\"_parent\"><img src=\"https://colab.research.google.com/assets/colab-badge.svg\" alt=\"Open In Colab\"/></a>"
      ]
    },
    {
      "cell_type": "markdown",
      "metadata": {
        "id": "bIN1toId9uqz"
      },
      "source": [
        "* **Ejercicio 1**: Realiza una variable con tu matricula y realiza una secuencia de imprimir con tu nombre y tu matricula concatenados."
      ]
    },
    {
      "cell_type": "code",
      "metadata": {
        "colab": {
          "base_uri": "https://localhost:8080/"
        },
        "id": "pBsj5eZ594KL",
        "outputId": "e8e40706-c140-4d78-e8c6-dadea814536a"
      },
      "source": [
        "mat=\"1853256\"\n",
        "type(mat)\n",
        "print(\"Adriana Jackeline Trejo Rodriguez\", mat)"
      ],
      "execution_count": null,
      "outputs": [
        {
          "output_type": "stream",
          "text": [
            "Adriana Trejo 1853256\n"
          ],
          "name": "stdout"
        }
      ]
    },
    {
      "cell_type": "markdown",
      "metadata": {
        "id": "QGI1VDniCDD4"
      },
      "source": [
        "* **Ejercicio 2** : Pidiendo el input del usuario pide dos números y crea una pequeña calculadora con los operadores básicos de suma, resta, multiplicación, división, y exponente."
      ]
    },
    {
      "cell_type": "code",
      "metadata": {
        "colab": {
          "base_uri": "https://localhost:8080/"
        },
        "id": "yf7cw7kdC2c9",
        "outputId": "842952c7-7ad3-46eb-99fb-0091538c0647"
      },
      "source": [
        "n1=int(input(\"Introduce el primer numero:\"))\n",
        "n2=int(input(\"Introduce el segundo numero:\"))\n",
        "\n",
        "print(\"Suma -->\", n1,\"+\",n2,\"=\",n1+n2)\n",
        "print(\"Resta -->\", n1,\"-\",n2,\"=\",n1-n2)\n",
        "print(\"Multiplicacion -->\", n1,\"*\",n2,\"=\",n1*n2)\n",
        "print(\"Division -->\", n1,\"/\",n2,\"=\",n1/n2)\n",
        "print(\"Exponente -->\", n1,\"^\",n2,\"=\",n1**n2)"
      ],
      "execution_count": null,
      "outputs": [
        {
          "output_type": "stream",
          "text": [
            "Introduce el primer numero:1\n",
            "Introduce el segundo numero:2\n",
            "Suma --> 1 + 2 = 3\n",
            "Resta --> 1 - 2 = -1\n",
            "Multiplicacion --> 1 * 2 = 2\n",
            "Division --> 1 / 2 = 0.5\n",
            "Exponente --> 1 ^ 2 = 1\n"
          ],
          "name": "stdout"
        }
      ]
    },
    {
      "cell_type": "markdown",
      "metadata": {
        "id": "3o1Gk0l8FKx2"
      },
      "source": [
        "* **Ejercicio 3** : Con loop while o for, realiza una lista de 10 numeros multiplos de 3, y después realiza una función de loop que sume todos los números dentro del arreglo."
      ]
    },
    {
      "cell_type": "code",
      "metadata": {
        "colab": {
          "base_uri": "https://localhost:8080/"
        },
        "id": "jS0_B8ihFPVq",
        "outputId": "befb032b-8c1a-4525-fcb8-351a042346b3"
      },
      "source": [
        "suma=0\n",
        "for i in range(1,11):\n",
        "    x=i*3\n",
        "    print(x)\n",
        "    suma=suma+x\n",
        "\n",
        "print(\"La suma de los multiplos de 3 es:\", suma)"
      ],
      "execution_count": null,
      "outputs": [
        {
          "output_type": "stream",
          "text": [
            "3\n",
            "6\n",
            "9\n",
            "12\n",
            "15\n",
            "18\n",
            "21\n",
            "24\n",
            "27\n",
            "30\n",
            "La suma de los multiplos de 3 es: 165\n"
          ],
          "name": "stdout"
        }
      ]
    },
    {
      "cell_type": "markdown",
      "metadata": {
        "id": "y9IaMtR7OjcG"
      },
      "source": [
        "* **Ejercicio 4** :\n",
        "*Con una función de if else, revisar si un número es par o es impar.\n",
        "*Con una función de if else, revisar si un número es primo o no."
      ]
    },
    {
      "cell_type": "code",
      "metadata": {
        "id": "k89MW7SHOGoI",
        "colab": {
          "base_uri": "https://localhost:8080/"
        },
        "outputId": "cb889ee7-308d-4afa-f1df-b83a2c876a53"
      },
      "source": [
        "num=int(input(\"Introduce el numero:\"))\n",
        "\n",
        "if  (num % 2)==0: \n",
        "    print (num,\"Es par\")\n",
        "else:\n",
        "    print (num,\" Es impar \")\n",
        "    \n",
        "primo=0 \n",
        "for n in range(1,num):\n",
        "    if (num%n)==0:\n",
        "        primo=primo+1\n",
        "    \n",
        "if  (primo >= 2): \n",
        "    print(\"El numero\",num,\"NO ES PRIMO,\")\n",
        "else:\n",
        "    print (\"El numero\",num,\"ES PRIMO\") \n"
      ],
      "execution_count": 27,
      "outputs": [
        {
          "output_type": "stream",
          "text": [
            "Introduce el numero:11\n",
            "11  Es impar \n",
            "El numero 11 ES PRIMO\n"
          ],
          "name": "stdout"
        }
      ]
    },
    {
      "cell_type": "markdown",
      "metadata": {
        "id": "jOxSQrrraGVh"
      },
      "source": [
        "* **Ejercicio 5** : Utilizando diferentes clases en python, crea una calculadora con los operadores básicos de suma, resta, multiplicación, división, y exponente.\n",
        "\n"
      ]
    },
    {
      "cell_type": "code",
      "metadata": {
        "colab": {
          "base_uri": "https://localhost:8080/"
        },
        "id": "Gg9aPtWTaSId",
        "outputId": "715b8ee9-777f-43dd-ecd8-700d78df6876"
      },
      "source": [
        "def Suma(a,b):\n",
        "    c=a+b\n",
        "    return c\n",
        "def Resta(d,e):\n",
        "    f=d-e\n",
        "    return f\n",
        "def Multiplicacion(g,h):\n",
        "    i=g*h\n",
        "    return i\n",
        "def Division(j,k):\n",
        "    l=j/k\n",
        "    return l\n",
        "def Exponente(m,n):\n",
        "    o=m**n\n",
        "    return o\n",
        "\n",
        "print (\"Suma(2,2) -->\", Suma(2,2))\n",
        "print (\"Resta(2,2) -->\", Resta(2,2))\n",
        "print (\"Multiplicacion(2,2) -->\", Multiplicacion(2,2))\n",
        "print (\"Division(2,2) -->\", Division(2,2))\n",
        "print (\"Exponente(2,2) -->\", Exponente(2,2))"
      ],
      "execution_count": 36,
      "outputs": [
        {
          "output_type": "stream",
          "text": [
            "Suma(1,2) --> 4\n",
            "Resta(1,2) --> 0\n",
            "Multiplicacion(1,2) --> 4\n",
            "Division(1,2) --> 1.0\n",
            "Exponente(1,2) --> 4\n"
          ],
          "name": "stdout"
        }
      ]
    },
    {
      "cell_type": "markdown",
      "metadata": {
        "id": "O44uq-6AdCol"
      },
      "source": [
        "**Tuplas**\n",
        "* Crear una variable flotante, integer, boleana y compleja e imprimir el tipo de variable que es.\n",
        "* Crear una tupla con valores enteros imprimir el primer y ultimo valor.\n",
        "* Añadir 3 valores de string a la tupla.\n",
        "* Verificar si una variable existe dentro de la tupla."
      ]
    },
    {
      "cell_type": "code",
      "metadata": {
        "colab": {
          "base_uri": "https://localhost:8080/"
        },
        "id": "zTPSBv3kdUSE",
        "outputId": "6a384fe2-11c3-44c1-bd69-c77cbad823ce"
      },
      "source": [
        "#Punto 1\n",
        "a=10.76\n",
        "print(\"La variable\",a,\"es\",type(a))\n",
        "b=7\n",
        "print(\"La variable\",b,\"es\",type(b))\n",
        "c=(a!=b)\n",
        "print(\"La variable\",c,\"es\",type(c))\n",
        "d= 3j\n",
        "print(\"La variable\",d,\"es\",type(d))"
      ],
      "execution_count": 12,
      "outputs": [
        {
          "output_type": "stream",
          "text": [
            "La variable 10.76 es <class 'float'>\n",
            "La variable 7 es <class 'int'>\n",
            "La variable True es <class 'bool'>\n",
            "La variable 3j es <class 'complex'>\n"
          ],
          "name": "stdout"
        }
      ]
    },
    {
      "cell_type": "code",
      "metadata": {
        "colab": {
          "base_uri": "https://localhost:8080/"
        },
        "id": "Dbozk2Xu4fBi",
        "outputId": "14b60299-21bf-4ef0-ce21-189296f5d798"
      },
      "source": [
        "#Punto 2\n",
        "t1 = (1,2,3,4,5)\n",
        "type(t1)\n",
        "print(\"El primer elemento de la tupla es:\", t1[0])\n",
        "print(\"El ultimo elemento de la tupla es:\", t1[4])"
      ],
      "execution_count": 15,
      "outputs": [
        {
          "output_type": "stream",
          "text": [
            "El primer elemento de la tupla es: 1\n",
            "El ultimo elemento de la tupla es: 5\n"
          ],
          "name": "stdout"
        }
      ]
    },
    {
      "cell_type": "code",
      "metadata": {
        "colab": {
          "base_uri": "https://localhost:8080/"
        },
        "id": "vqCGNvTf5k8z",
        "outputId": "f89ea059-55c6-4b18-a70a-75d1b2855cd2"
      },
      "source": [
        "#Punto 3\n",
        "t1=(1,2,3,4,5)\n",
        "t1 = t1.__add__(('Mineria','de','Datos'))\n",
        "print(t1)"
      ],
      "execution_count": 21,
      "outputs": [
        {
          "output_type": "stream",
          "text": [
            "(1, 2, 3, 4, 5, 'Mineria', 'de', 'Datos')\n"
          ],
          "name": "stdout"
        }
      ]
    },
    {
      "cell_type": "code",
      "metadata": {
        "colab": {
          "base_uri": "https://localhost:8080/"
        },
        "id": "BUtMVx6a6V8L",
        "outputId": "b60f199b-1c11-44c6-f7b0-e27e8fe86782"
      },
      "source": [
        "#Punto 4\n",
        "t1=(1,2,3,4,5)\n",
        "\n",
        "10 in t1"
      ],
      "execution_count": 27,
      "outputs": [
        {
          "output_type": "execute_result",
          "data": {
            "text/plain": [
              "False"
            ]
          },
          "metadata": {},
          "execution_count": 27
        }
      ]
    },
    {
      "cell_type": "markdown",
      "metadata": {
        "id": "uo4hkrHj7Bix"
      },
      "source": [
        "**Listas**\n",
        "* Crear una lista con 40 elementos aleatorios enteros.\n",
        "* Con una funcion (def) crear dos listas nuevas a partir de la lista creada por numeros aleatorios, en la cual en una esten los elementos pares, y en la otra los elementos impares.\n",
        "* Crear dos variables con la longitud de ambas listas nuevas e imprimir las variables.\n",
        "* Ordenar los elementos de la lista par de mayor a menor, y los de la lista impar de menor a mayor.\n",
        "*Utilizar al menos cuatro de las funciones de listas en python en la lista original de 40 elementos."
      ]
    },
    {
      "cell_type": "code",
      "metadata": {
        "colab": {
          "base_uri": "https://localhost:8080/"
        },
        "id": "wP7Q4pHT7LzD",
        "outputId": "a7d9b7c6-3949-491d-87bf-fb57eb0088f0"
      },
      "source": [
        "#Punto 1\n",
        "\n",
        "import random as r\n",
        "lista = [r.randint(0,100) for _ in range(40)]\n",
        "print(\"La lista es:\",lista)\n",
        "print(\"La lista tiene\",len(lista),\"elementos\")\n",
        "\n",
        "#Punto 2 y Punto 3\n",
        "listapar=[]\n",
        "listaimpar=[]\n",
        "for i in range(len(lista)):\n",
        "\n",
        "      if  (lista[i] % 2)==0: \n",
        "          listapar.append(lista[i])\n",
        "      else:\n",
        "          listaimpar.append(lista[i])\n",
        "\n",
        "print(\"La lista de numeros pares es:\",listapar)\n",
        "print(\"La lista tiene\",len(listapar),\"elementos\")\n",
        "\n",
        "print(\"La lista de numeros impares es:\",listaimpar)\n",
        "print(\"La lista tiene\",len(listaimpar),\"elementos\")\n",
        "\n",
        "#Punto 4\n",
        "listapar.sort(reverse=True)\n",
        "print(\"La lista de los elementos pares ordenada de mayor a menor es:\",listapar)\n",
        "listaimpar.sort()\n",
        "print(\"La lista de los elementos impares ordenada de menor a mayor es:\",listaimpar)\n",
        "\n",
        "#Punto 5\n",
        "len(lista)\n",
        "lista*2\n",
        "lista4 = lista[12:26]\n",
        "lista5=lista[1:]\n",
        "lista6=lista[:15]"
      ],
      "execution_count": 64,
      "outputs": [
        {
          "output_type": "stream",
          "text": [
            "La lista es: [33, 47, 39, 27, 30, 32, 12, 38, 93, 70, 43, 11, 46, 41, 29, 52, 57, 19, 11, 50, 96, 89, 76, 97, 40, 12, 74, 36, 13, 68, 12, 49, 30, 59, 56, 18, 70, 62, 74, 97]\n",
            "La lista tiene 40 elementos\n",
            "La lista de numeros pares es: [30, 32, 12, 38, 70, 46, 52, 50, 96, 76, 40, 12, 74, 36, 68, 12, 30, 56, 18, 70, 62, 74]\n",
            "La lista tiene 22 elementos\n",
            "La lista de numeros impares es: [33, 47, 39, 27, 93, 43, 11, 41, 29, 57, 19, 11, 89, 97, 13, 49, 59, 97]\n",
            "La lista tiene 18 elementos\n",
            "La lista de los elementos pares ordenada de mayor a menor es: [96, 76, 74, 74, 70, 70, 68, 62, 56, 52, 50, 46, 40, 38, 36, 32, 30, 30, 18, 12, 12, 12]\n",
            "La lista de los elementos impares ordenada de menor a mayor es: [11, 11, 13, 19, 27, 29, 33, 39, 41, 43, 47, 49, 57, 59, 89, 93, 97, 97]\n",
            "[46, 41, 29, 52, 57, 19, 11, 50, 96, 89, 76, 97, 40, 12]\n",
            "[33, 47, 39, 27, 30, 32, 12, 38, 93, 70, 43, 11, 46, 41, 29]\n"
          ],
          "name": "stdout"
        }
      ]
    },
    {
      "cell_type": "markdown",
      "metadata": {
        "id": "Wv9qmKotYLT9"
      },
      "source": [
        "**Diccionarios**\n",
        "* Crear un diccionario de 6 personas que conozcas con su primer nombre y su edad.\n",
        "* Crear una lista con los valores de la edad y reacomodar la lista de menor a mayor valor.\n",
        "* Usando el diccionario y un loop, imprimir solo los nombres.\n",
        "* Añadir dos personas nuevas a tu diccionario, incluyendo edad."
      ]
    },
    {
      "cell_type": "code",
      "metadata": {
        "colab": {
          "base_uri": "https://localhost:8080/"
        },
        "id": "w2pBvsDyoa7d",
        "outputId": "bd56ec65-7b96-4e2d-e719-bd2412e0dffb"
      },
      "source": [
        "#Punto 1\n",
        "diccionario={\"Socorro\":67,\"Javier\":13,\"Osvaldo\":21,\"Adriana\":20,\"Manuel\":46}\n",
        "diccionario\n",
        "\n",
        "#Punto 2\n",
        "e=diccionario.values()\n",
        "e\n",
        "\n",
        "#Punto 3\n",
        "n=diccionario.keys()\n",
        "n\n",
        "\n",
        "#Punto 4\n",
        "diccionario['Gabriela'] = '42'\n",
        "diccionario['Daniela'] = '22'\n",
        "diccionario"
      ],
      "execution_count": 140,
      "outputs": [
        {
          "output_type": "execute_result",
          "data": {
            "text/plain": [
              "{'Adriana': 20,\n",
              " 'Daniela': '22',\n",
              " 'Gabriela': '42',\n",
              " 'Javier': 13,\n",
              " 'Manuel': 46,\n",
              " 'Osvaldo': 21,\n",
              " 'Socorro': 67}"
            ]
          },
          "metadata": {},
          "execution_count": 140
        }
      ]
    },
    {
      "cell_type": "markdown",
      "metadata": {
        "id": "S-22F3IjqkiV"
      },
      "source": [
        "**Sets**\n",
        "* Crea un set con 100 numeros aleatorios enteros del 1 al 25.\n",
        "* Comprueba la longitud de tu set.\n",
        "* Crea una lista de 5 numeros aleatorios del 1 al 10 y comprueba si cada valor aparece en el set inicial."
      ]
    },
    {
      "cell_type": "code",
      "metadata": {
        "colab": {
          "base_uri": "https://localhost:8080/"
        },
        "id": "H0GwW6Oqqq_O",
        "outputId": "69364126-e03e-4f84-a6c7-f10bc9434c53"
      },
      "source": [
        "#Punto 1\n",
        "import random as r\n",
        "set = [r.randint(1,25) for _ in range(100)]\n",
        "set\n",
        "\n",
        "#Punto 2\n",
        "len(set)\n",
        "\n",
        "#Punto 3\n",
        "lista = [r.randint(1,10) for _ in range(10)]\n",
        "set\n",
        "lista[0] in set\n",
        "lista[1] in set\n",
        "lista[2] in set\n",
        "lista[3] in set\n",
        "lista[4] in set\n",
        "lista[5] in set\n",
        "lista[6] in set\n",
        "lista[7] in set\n",
        "lista[8] in set\n",
        "lista[9] in set"
      ],
      "execution_count": 175,
      "outputs": [
        {
          "output_type": "execute_result",
          "data": {
            "text/plain": [
              "True"
            ]
          },
          "metadata": {},
          "execution_count": 175
        }
      ]
    }
  ]
}